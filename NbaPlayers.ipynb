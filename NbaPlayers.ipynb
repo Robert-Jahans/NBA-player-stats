{
 "cells": [
  {
   "cell_type": "markdown",
   "id": "3141c939-7e5b-460e-a636-2793459f4466",
   "metadata": {},
   "source": [
    "### NBA Player Perfomance Visualisation\n",
    "This notebook allows a user to check a visualised NBA players stastlines for the number of games requested or full season. All data comes fom nba_api. This API allows analysts to acquire up to date information that only requires a re-run of code."
   ]
  },
  {
   "cell_type": "markdown",
   "id": "c36a2bde-2c62-4d74-b5d5-ea10c854f8e0",
   "metadata": {},
   "source": [
    "## API Setup\n",
    "\n",
    "Install and Import nba_api and its modules as shown.\n",
    "Then request the player name of a user with apostrohe's to be used in the next cell."
   ]
  },
  {
   "cell_type": "code",
   "execution_count": null,
   "id": "74566e6d-935f-4965-92cb-e66a6e2f5c64",
   "metadata": {},
   "outputs": [
    {
     "name": "stdin",
     "output_type": "stream",
     "text": [
      "Which player's data would you like to see: ''  Tyrese Haliburton\n"
     ]
    }
   ],
   "source": [
    "from nba_api.stats.static import players\n",
    "player_dict = players.get_players()\n",
    "\n",
    "inplayer = input(\"Which player's data would you like to see: '' \")"
   ]
  },
  {
   "cell_type": "markdown",
   "id": "a0b1c73a-4236-4f83-902b-c89dce93a53b",
   "metadata": {},
   "source": [
    "By using the users text input, locate the player in the dictionary found in the first step. identify the players id (df['id']) to be used in the next cell\n",
    "\n",
    "\n"
   ]
  },
  {
   "cell_type": "code",
   "execution_count": null,
   "id": "eedc89f4-ad6a-4ea7-999e-7c99580c4a6c",
   "metadata": {},
   "outputs": [],
   "source": [
    "df = [player for player in player_dict if player['full_name']== inplayer][0]\n",
    "df_id = df['id']"
   ]
  },
  {
   "cell_type": "markdown",
   "id": "81a86132-81fd-4847-ba21-2d78ef3f883d",
   "metadata": {},
   "source": [
    "Now use the player id to locate the payers season gamelog through nba_api."
   ]
  },
  {
   "cell_type": "code",
   "execution_count": 114,
   "id": "d8ece696-83e1-4c27-9987-1374c0120518",
   "metadata": {
    "tags": []
   },
   "outputs": [],
   "source": [
    "from nba_api.stats.endpoints import playergamelog\n",
    "import pandas as pd \n",
    "\n",
    "gamelog_play = playergamelog.PlayerGameLog(df_id, season = '2022')\n",
    "\n",
    "df_play_games_2022 = gamelog_play.get_data_frames()\n",
    "\n",
    "play = df_play_games_2022[0]\n"
   ]
  },
  {
   "cell_type": "markdown",
   "id": "c57c18c1-b758-4cfe-a135-d660bab17454",
   "metadata": {},
   "source": [
    "Show the columns of the df named play so that we know what stastistics reside there and can use the column names for visualisation later."
   ]
  },
  {
   "cell_type": "code",
   "execution_count": 115,
   "id": "3fdaae5f-5247-42ec-855e-e7ac41229536",
   "metadata": {},
   "outputs": [
    {
     "data": {
      "text/plain": [
       "Index(['SEASON_ID', 'Player_ID', 'Game_ID', 'GAME_DATE', 'MATCHUP', 'WL',\n",
       "       'MIN', 'FGM', 'FGA', 'FG_PCT', 'FG3M', 'FG3A', 'FG3_PCT', 'FTM', 'FTA',\n",
       "       'FT_PCT', 'OREB', 'DREB', 'REB', 'AST', 'STL', 'BLK', 'TOV', 'PF',\n",
       "       'PTS', 'PLUS_MINUS', 'VIDEO_AVAILABLE'],\n",
       "      dtype='object')"
      ]
     },
     "execution_count": 115,
     "metadata": {},
     "output_type": "execute_result"
    }
   ],
   "source": [
    "play.columns"
   ]
  },
  {
   "cell_type": "code",
   "execution_count": 116,
   "id": "3e58476b-0deb-43b8-9da7-a45b30bf42a3",
   "metadata": {},
   "outputs": [],
   "source": [
    "from nba_api.stats.library.parameters import SeasonAll\n",
    "\n",
    "gamelog_play_all = playergamelog.PlayerGameLog(df_id, season = SeasonAll.all)\n",
    "\n",
    "df_play_games_all = gamelog_play_all.get_data_frames()\n",
    "\n",
    "play_all = df_play_games_all[0]"
   ]
  },
  {
   "cell_type": "markdown",
   "id": "b97e8987-2314-49e7-84b1-cd4adb76b32e",
   "metadata": {},
   "source": [
    "Allow the user to input the number of games they would like the visualisations to show"
   ]
  },
  {
   "cell_type": "code",
   "execution_count": 117,
   "id": "c1c5b6d9-2e5a-4cdc-9b3f-be81b2d6f7a3",
   "metadata": {},
   "outputs": [
    {
     "name": "stdin",
     "output_type": "stream",
     "text": [
      "How many of the last games would you like data for?(Number)   15\n"
     ]
    }
   ],
   "source": [
    "games = int(input(\"How many of the last games would you like data for?(Number)  \"))"
   ]
  },
  {
   "cell_type": "markdown",
   "id": "5820f3a5-d584-4e90-992d-670af82928e3",
   "metadata": {},
   "source": [
    "By using the user input, subtract that number from the total length of the players career df and define it."
   ]
  },
  {
   "cell_type": "code",
   "execution_count": 118,
   "id": "a68f55ff-f506-4a1a-8d43-eef1f4570d6c",
   "metadata": {
    "tags": []
   },
   "outputs": [],
   "source": [
    "gb = (len(play_all)-games) \n",
    "ten = (len(play_all)-10)\n",
    "five = (len(play_all)-5)"
   ]
  },
  {
   "cell_type": "markdown",
   "id": "0ca726d4-6730-4f55-b1f6-c160f32921bb",
   "metadata": {},
   "source": [
    "## Making a new df from user request\n",
    "\n",
    "Make a new DataFrame by locating the number of games requested by using[:-gb] so that the .iloc doesnt look at the games before the requested amount  "
   ]
  },
  {
   "cell_type": "code",
   "execution_count": 119,
   "id": "9c54b2bb-ace0-415d-8cfd-bd79117943f9",
   "metadata": {
    "tags": []
   },
   "outputs": [],
   "source": [
    "play_no = play_all.iloc[:-gb]"
   ]
  },
  {
   "cell_type": "markdown",
   "id": "3ab2480c-031f-4a57-b99f-4784357d44fc",
   "metadata": {},
   "source": [
    "## Derived Statistics\n",
    "\n",
    "Add new columns to the DataFrame that show the addition of some statsistics together by locating them with iloc and summing them. Using this method as opposed to just adding the features together was preferred as it reduced the number of errorsand copy warnings. As a result it is necessary to find the order of the features in the DataFrame which becomes easy through the play.columns used in the 4th cell."
   ]
  },
  {
   "cell_type": "code",
   "execution_count": 120,
   "id": "2bf49f22-7ed2-4f61-996c-4c63824184c9",
   "metadata": {
    "tags": []
   },
   "outputs": [],
   "source": [
    "pd.options.mode.chained_assignment = None\n",
    "play_no['P+A'] = play_no.iloc[:,[24,19]].sum(axis=1)\n",
    "play_no['P+R'] = play_no.iloc[:,[24,18]].sum(axis=1)\n",
    "play_no['R+A'] = play_no.iloc[:,[18,19]].sum(axis=1)\n",
    "play_no['P+R+A'] = play_no.iloc[:,[24,18,19]].sum(axis=1)"
   ]
  },
  {
   "cell_type": "markdown",
   "id": "39a489fc-2777-46d3-80b5-c7fc32dbc5ae",
   "metadata": {},
   "source": [
    "In case of copy warning use the method below and the top of the previous cell to ignore and then re warn after the cell is run"
   ]
  },
  {
   "cell_type": "code",
   "execution_count": 129,
   "id": "a3c0dca7-58a9-43a1-a428-522cd12b818d",
   "metadata": {},
   "outputs": [],
   "source": [
    "pd.options.mode.chained_assignment = 'warn'"
   ]
  },
  {
   "cell_type": "markdown",
   "id": "dfd014f2-e3fe-44d6-bb23-8500dd1eeab6",
   "metadata": {},
   "source": [
    "## Graph Objects\n",
    "\n",
    "Import numpy to find the mean and median of the data chosen to be used in the visualisation."
   ]
  },
  {
   "cell_type": "code",
   "execution_count": 122,
   "id": "8ec4cf87-cd6f-41b9-a9af-af8fdc93202b",
   "metadata": {},
   "outputs": [],
   "source": [
    "import numpy as np\n",
    "pl = np.median(play_no['PTS'])\n",
    "al = np.median(play_no['AST'])\n",
    "rl = np.median(play_no['REB'])\n",
    "pal = np.median(play_no['P+A'])\n",
    "prl = np.median(play_no['P+R'])\n",
    "ral = np.median(play_no['R+A'])\n",
    "pral = np.median(play_no['P+R+A'])\n",
    "thr = np.median(play_no['FG3M'])"
   ]
  },
  {
   "cell_type": "code",
   "execution_count": 123,
   "id": "d9bb8302-0048-4118-a57d-29009fcfc4aa",
   "metadata": {},
   "outputs": [],
   "source": [
    "plm = np.mean(play_no['PTS'])\n",
    "alm = np.mean(play_no['AST'])\n",
    "rlm = np.mean(play_no['REB'])\n",
    "palm = np.mean(play_no['P+A'])\n",
    "prlm = np.mean(play_no['P+R'])\n",
    "ralm = np.mean(play_no['R+A'])\n",
    "pralm = np.mean(play_no['P+R+A'])\n",
    "thrm = np.mean(play_no['FG3M'])"
   ]
  },
  {
   "cell_type": "markdown",
   "id": "859e4a8f-50ea-43b1-b26a-433fc87f5c44",
   "metadata": {},
   "source": [
    "## Barchart\n",
    "\n",
    "plotly express for the barchart using the data derived from the number of games requested to see. Make sure the xaxis is in chronological order and in a legible format. Then update the layout with buttons to allow a user to change the data on the bar chart they wish to see with the method shown below. Each new button is a  new Y axis statistic. "
   ]
  },
  {
   "cell_type": "code",
   "execution_count": 128,
   "id": "11c72bb1-468d-477e-954c-7bd1e84e98d5",
   "metadata": {
    "tags": []
   },
   "outputs": [
    {
     "data": {
      "application/vnd.plotly.v1+json": {
       "config": {
        "plotlyServerURL": "https://plot.ly"
       },
       "data": [
        {
         "alignmentgroup": "True",
         "hovertemplate": "<b>%{hovertext}</b><br><br>GAME_DATE=%{x}<br>count=%{y}<extra></extra>",
         "hovertext": [
          "IND vs. CHA",
          "IND vs. POR",
          "IND @ PHI",
          "IND vs. TOR",
          "IND vs. LAC",
          "IND vs. CLE",
          "IND vs. ATL",
          "IND @ NOP",
          "IND @ MIA",
          "IND @ BOS",
          "IND vs. NYK",
          "IND @ CLE",
          "IND vs. GSW",
          "IND vs. MIA",
          "IND vs. BKN"
         ],
         "legendgroup": "",
         "marker": {
          "color": "#636efa",
          "pattern": {
           "shape": ""
          }
         },
         "name": "",
         "offsetgroup": "",
         "orientation": "v",
         "showlegend": false,
         "textposition": "auto",
         "type": "bar",
         "x": [
          "JAN 08, 2023",
          "JAN 06, 2023",
          "JAN 04, 2023",
          "JAN 02, 2023",
          "DEC 31, 2022",
          "DEC 29, 2022",
          "DEC 27, 2022",
          "DEC 26, 2022",
          "DEC 23, 2022",
          "DEC 21, 2022",
          "DEC 18, 2022",
          "DEC 16, 2022",
          "DEC 14, 2022",
          "DEC 12, 2022",
          "DEC 10, 2022"
         ],
         "xaxis": "x",
         "y": [
          1,
          1,
          1,
          1,
          1,
          1,
          1,
          1,
          1,
          1,
          1,
          1,
          1,
          1,
          1
         ],
         "yaxis": "y"
        }
       ],
       "layout": {
        "autosize": true,
        "barmode": "relative",
        "legend": {
         "tracegroupgap": 0
        },
        "margin": {
         "t": 60
        },
        "template": {
         "data": {
          "bar": [
           {
            "error_x": {
             "color": "#2a3f5f"
            },
            "error_y": {
             "color": "#2a3f5f"
            },
            "marker": {
             "line": {
              "color": "#E5ECF6",
              "width": 0.5
             },
             "pattern": {
              "fillmode": "overlay",
              "size": 10,
              "solidity": 0.2
             }
            },
            "type": "bar"
           }
          ],
          "barpolar": [
           {
            "marker": {
             "line": {
              "color": "#E5ECF6",
              "width": 0.5
             },
             "pattern": {
              "fillmode": "overlay",
              "size": 10,
              "solidity": 0.2
             }
            },
            "type": "barpolar"
           }
          ],
          "carpet": [
           {
            "aaxis": {
             "endlinecolor": "#2a3f5f",
             "gridcolor": "white",
             "linecolor": "white",
             "minorgridcolor": "white",
             "startlinecolor": "#2a3f5f"
            },
            "baxis": {
             "endlinecolor": "#2a3f5f",
             "gridcolor": "white",
             "linecolor": "white",
             "minorgridcolor": "white",
             "startlinecolor": "#2a3f5f"
            },
            "type": "carpet"
           }
          ],
          "choropleth": [
           {
            "colorbar": {
             "outlinewidth": 0,
             "ticks": ""
            },
            "type": "choropleth"
           }
          ],
          "contour": [
           {
            "colorbar": {
             "outlinewidth": 0,
             "ticks": ""
            },
            "colorscale": [
             [
              0,
              "#0d0887"
             ],
             [
              0.1111111111111111,
              "#46039f"
             ],
             [
              0.2222222222222222,
              "#7201a8"
             ],
             [
              0.3333333333333333,
              "#9c179e"
             ],
             [
              0.4444444444444444,
              "#bd3786"
             ],
             [
              0.5555555555555556,
              "#d8576b"
             ],
             [
              0.6666666666666666,
              "#ed7953"
             ],
             [
              0.7777777777777778,
              "#fb9f3a"
             ],
             [
              0.8888888888888888,
              "#fdca26"
             ],
             [
              1,
              "#f0f921"
             ]
            ],
            "type": "contour"
           }
          ],
          "contourcarpet": [
           {
            "colorbar": {
             "outlinewidth": 0,
             "ticks": ""
            },
            "type": "contourcarpet"
           }
          ],
          "heatmap": [
           {
            "colorbar": {
             "outlinewidth": 0,
             "ticks": ""
            },
            "colorscale": [
             [
              0,
              "#0d0887"
             ],
             [
              0.1111111111111111,
              "#46039f"
             ],
             [
              0.2222222222222222,
              "#7201a8"
             ],
             [
              0.3333333333333333,
              "#9c179e"
             ],
             [
              0.4444444444444444,
              "#bd3786"
             ],
             [
              0.5555555555555556,
              "#d8576b"
             ],
             [
              0.6666666666666666,
              "#ed7953"
             ],
             [
              0.7777777777777778,
              "#fb9f3a"
             ],
             [
              0.8888888888888888,
              "#fdca26"
             ],
             [
              1,
              "#f0f921"
             ]
            ],
            "type": "heatmap"
           }
          ],
          "heatmapgl": [
           {
            "colorbar": {
             "outlinewidth": 0,
             "ticks": ""
            },
            "colorscale": [
             [
              0,
              "#0d0887"
             ],
             [
              0.1111111111111111,
              "#46039f"
             ],
             [
              0.2222222222222222,
              "#7201a8"
             ],
             [
              0.3333333333333333,
              "#9c179e"
             ],
             [
              0.4444444444444444,
              "#bd3786"
             ],
             [
              0.5555555555555556,
              "#d8576b"
             ],
             [
              0.6666666666666666,
              "#ed7953"
             ],
             [
              0.7777777777777778,
              "#fb9f3a"
             ],
             [
              0.8888888888888888,
              "#fdca26"
             ],
             [
              1,
              "#f0f921"
             ]
            ],
            "type": "heatmapgl"
           }
          ],
          "histogram": [
           {
            "marker": {
             "pattern": {
              "fillmode": "overlay",
              "size": 10,
              "solidity": 0.2
             }
            },
            "type": "histogram"
           }
          ],
          "histogram2d": [
           {
            "colorbar": {
             "outlinewidth": 0,
             "ticks": ""
            },
            "colorscale": [
             [
              0,
              "#0d0887"
             ],
             [
              0.1111111111111111,
              "#46039f"
             ],
             [
              0.2222222222222222,
              "#7201a8"
             ],
             [
              0.3333333333333333,
              "#9c179e"
             ],
             [
              0.4444444444444444,
              "#bd3786"
             ],
             [
              0.5555555555555556,
              "#d8576b"
             ],
             [
              0.6666666666666666,
              "#ed7953"
             ],
             [
              0.7777777777777778,
              "#fb9f3a"
             ],
             [
              0.8888888888888888,
              "#fdca26"
             ],
             [
              1,
              "#f0f921"
             ]
            ],
            "type": "histogram2d"
           }
          ],
          "histogram2dcontour": [
           {
            "colorbar": {
             "outlinewidth": 0,
             "ticks": ""
            },
            "colorscale": [
             [
              0,
              "#0d0887"
             ],
             [
              0.1111111111111111,
              "#46039f"
             ],
             [
              0.2222222222222222,
              "#7201a8"
             ],
             [
              0.3333333333333333,
              "#9c179e"
             ],
             [
              0.4444444444444444,
              "#bd3786"
             ],
             [
              0.5555555555555556,
              "#d8576b"
             ],
             [
              0.6666666666666666,
              "#ed7953"
             ],
             [
              0.7777777777777778,
              "#fb9f3a"
             ],
             [
              0.8888888888888888,
              "#fdca26"
             ],
             [
              1,
              "#f0f921"
             ]
            ],
            "type": "histogram2dcontour"
           }
          ],
          "mesh3d": [
           {
            "colorbar": {
             "outlinewidth": 0,
             "ticks": ""
            },
            "type": "mesh3d"
           }
          ],
          "parcoords": [
           {
            "line": {
             "colorbar": {
              "outlinewidth": 0,
              "ticks": ""
             }
            },
            "type": "parcoords"
           }
          ],
          "pie": [
           {
            "automargin": true,
            "type": "pie"
           }
          ],
          "scatter": [
           {
            "marker": {
             "colorbar": {
              "outlinewidth": 0,
              "ticks": ""
             }
            },
            "type": "scatter"
           }
          ],
          "scatter3d": [
           {
            "line": {
             "colorbar": {
              "outlinewidth": 0,
              "ticks": ""
             }
            },
            "marker": {
             "colorbar": {
              "outlinewidth": 0,
              "ticks": ""
             }
            },
            "type": "scatter3d"
           }
          ],
          "scattercarpet": [
           {
            "marker": {
             "colorbar": {
              "outlinewidth": 0,
              "ticks": ""
             }
            },
            "type": "scattercarpet"
           }
          ],
          "scattergeo": [
           {
            "marker": {
             "colorbar": {
              "outlinewidth": 0,
              "ticks": ""
             }
            },
            "type": "scattergeo"
           }
          ],
          "scattergl": [
           {
            "marker": {
             "colorbar": {
              "outlinewidth": 0,
              "ticks": ""
             }
            },
            "type": "scattergl"
           }
          ],
          "scattermapbox": [
           {
            "marker": {
             "colorbar": {
              "outlinewidth": 0,
              "ticks": ""
             }
            },
            "type": "scattermapbox"
           }
          ],
          "scatterpolar": [
           {
            "marker": {
             "colorbar": {
              "outlinewidth": 0,
              "ticks": ""
             }
            },
            "type": "scatterpolar"
           }
          ],
          "scatterpolargl": [
           {
            "marker": {
             "colorbar": {
              "outlinewidth": 0,
              "ticks": ""
             }
            },
            "type": "scatterpolargl"
           }
          ],
          "scatterternary": [
           {
            "marker": {
             "colorbar": {
              "outlinewidth": 0,
              "ticks": ""
             }
            },
            "type": "scatterternary"
           }
          ],
          "surface": [
           {
            "colorbar": {
             "outlinewidth": 0,
             "ticks": ""
            },
            "colorscale": [
             [
              0,
              "#0d0887"
             ],
             [
              0.1111111111111111,
              "#46039f"
             ],
             [
              0.2222222222222222,
              "#7201a8"
             ],
             [
              0.3333333333333333,
              "#9c179e"
             ],
             [
              0.4444444444444444,
              "#bd3786"
             ],
             [
              0.5555555555555556,
              "#d8576b"
             ],
             [
              0.6666666666666666,
              "#ed7953"
             ],
             [
              0.7777777777777778,
              "#fb9f3a"
             ],
             [
              0.8888888888888888,
              "#fdca26"
             ],
             [
              1,
              "#f0f921"
             ]
            ],
            "type": "surface"
           }
          ],
          "table": [
           {
            "cells": {
             "fill": {
              "color": "#EBF0F8"
             },
             "line": {
              "color": "white"
             }
            },
            "header": {
             "fill": {
              "color": "#C8D4E3"
             },
             "line": {
              "color": "white"
             }
            },
            "type": "table"
           }
          ]
         },
         "layout": {
          "annotationdefaults": {
           "arrowcolor": "#2a3f5f",
           "arrowhead": 0,
           "arrowwidth": 1
          },
          "autotypenumbers": "strict",
          "coloraxis": {
           "colorbar": {
            "outlinewidth": 0,
            "ticks": ""
           }
          },
          "colorscale": {
           "diverging": [
            [
             0,
             "#8e0152"
            ],
            [
             0.1,
             "#c51b7d"
            ],
            [
             0.2,
             "#de77ae"
            ],
            [
             0.3,
             "#f1b6da"
            ],
            [
             0.4,
             "#fde0ef"
            ],
            [
             0.5,
             "#f7f7f7"
            ],
            [
             0.6,
             "#e6f5d0"
            ],
            [
             0.7,
             "#b8e186"
            ],
            [
             0.8,
             "#7fbc41"
            ],
            [
             0.9,
             "#4d9221"
            ],
            [
             1,
             "#276419"
            ]
           ],
           "sequential": [
            [
             0,
             "#0d0887"
            ],
            [
             0.1111111111111111,
             "#46039f"
            ],
            [
             0.2222222222222222,
             "#7201a8"
            ],
            [
             0.3333333333333333,
             "#9c179e"
            ],
            [
             0.4444444444444444,
             "#bd3786"
            ],
            [
             0.5555555555555556,
             "#d8576b"
            ],
            [
             0.6666666666666666,
             "#ed7953"
            ],
            [
             0.7777777777777778,
             "#fb9f3a"
            ],
            [
             0.8888888888888888,
             "#fdca26"
            ],
            [
             1,
             "#f0f921"
            ]
           ],
           "sequentialminus": [
            [
             0,
             "#0d0887"
            ],
            [
             0.1111111111111111,
             "#46039f"
            ],
            [
             0.2222222222222222,
             "#7201a8"
            ],
            [
             0.3333333333333333,
             "#9c179e"
            ],
            [
             0.4444444444444444,
             "#bd3786"
            ],
            [
             0.5555555555555556,
             "#d8576b"
            ],
            [
             0.6666666666666666,
             "#ed7953"
            ],
            [
             0.7777777777777778,
             "#fb9f3a"
            ],
            [
             0.8888888888888888,
             "#fdca26"
            ],
            [
             1,
             "#f0f921"
            ]
           ]
          },
          "colorway": [
           "#636efa",
           "#EF553B",
           "#00cc96",
           "#ab63fa",
           "#FFA15A",
           "#19d3f3",
           "#FF6692",
           "#B6E880",
           "#FF97FF",
           "#FECB52"
          ],
          "font": {
           "color": "#2a3f5f"
          },
          "geo": {
           "bgcolor": "white",
           "lakecolor": "white",
           "landcolor": "#E5ECF6",
           "showlakes": true,
           "showland": true,
           "subunitcolor": "white"
          },
          "hoverlabel": {
           "align": "left"
          },
          "hovermode": "closest",
          "mapbox": {
           "style": "light"
          },
          "paper_bgcolor": "white",
          "plot_bgcolor": "#E5ECF6",
          "polar": {
           "angularaxis": {
            "gridcolor": "white",
            "linecolor": "white",
            "ticks": ""
           },
           "bgcolor": "#E5ECF6",
           "radialaxis": {
            "gridcolor": "white",
            "linecolor": "white",
            "ticks": ""
           }
          },
          "scene": {
           "xaxis": {
            "backgroundcolor": "#E5ECF6",
            "gridcolor": "white",
            "gridwidth": 2,
            "linecolor": "white",
            "showbackground": true,
            "ticks": "",
            "zerolinecolor": "white"
           },
           "yaxis": {
            "backgroundcolor": "#E5ECF6",
            "gridcolor": "white",
            "gridwidth": 2,
            "linecolor": "white",
            "showbackground": true,
            "ticks": "",
            "zerolinecolor": "white"
           },
           "zaxis": {
            "backgroundcolor": "#E5ECF6",
            "gridcolor": "white",
            "gridwidth": 2,
            "linecolor": "white",
            "showbackground": true,
            "ticks": "",
            "zerolinecolor": "white"
           }
          },
          "shapedefaults": {
           "line": {
            "color": "#2a3f5f"
           }
          },
          "ternary": {
           "aaxis": {
            "gridcolor": "white",
            "linecolor": "white",
            "ticks": ""
           },
           "baxis": {
            "gridcolor": "white",
            "linecolor": "white",
            "ticks": ""
           },
           "bgcolor": "#E5ECF6",
           "caxis": {
            "gridcolor": "white",
            "linecolor": "white",
            "ticks": ""
           }
          },
          "title": {
           "x": 0.05
          },
          "xaxis": {
           "automargin": true,
           "gridcolor": "white",
           "linecolor": "white",
           "ticks": "",
           "title": {
            "standoff": 15
           },
           "zerolinecolor": "white",
           "zerolinewidth": 2
          },
          "yaxis": {
           "automargin": true,
           "gridcolor": "white",
           "linecolor": "white",
           "ticks": "",
           "title": {
            "standoff": 15
           },
           "zerolinecolor": "white",
           "zerolinewidth": 2
          }
         }
        },
        "updatemenus": [
         {
          "buttons": [
           {
            "args": [
             {
              "y": [
               [
                16,
                15,
                16,
                16,
                24,
                29,
                23,
                12,
                43,
                33,
                15,
                17,
                29,
                1,
                35
               ],
               [
                "JAN 08, 2023",
                "JAN 06, 2023",
                "JAN 04, 2023",
                "JAN 02, 2023",
                "DEC 31, 2022",
                "DEC 29, 2022",
                "DEC 27, 2022",
                "DEC 26, 2022",
                "DEC 23, 2022",
                "DEC 21, 2022",
                "DEC 18, 2022",
                "DEC 16, 2022",
                "DEC 14, 2022",
                "DEC 12, 2022",
                "DEC 10, 2022"
               ]
              ]
             }
            ],
            "label": "Points",
            "method": "update"
           },
           {
            "args": [
             {
              "y": [
               [
                13,
                12,
                12,
                8,
                10,
                9,
                7,
                6,
                7,
                8,
                10,
                14,
                6,
                6,
                9
               ],
               [
                "JAN 08, 2023",
                "JAN 06, 2023",
                "JAN 04, 2023",
                "JAN 02, 2023",
                "DEC 31, 2022",
                "DEC 29, 2022",
                "DEC 27, 2022",
                "DEC 26, 2022",
                "DEC 23, 2022",
                "DEC 21, 2022",
                "DEC 18, 2022",
                "DEC 16, 2022",
                "DEC 14, 2022",
                "DEC 12, 2022",
                "DEC 10, 2022"
               ]
              ]
             }
            ],
            "label": "Assists",
            "method": "update"
           },
           {
            "args": [
             {
              "y": [
               [
                5,
                4,
                7,
                6,
                7,
                2,
                3,
                1,
                2,
                3,
                1,
                0,
                4,
                3,
                1
               ],
               [
                "JAN 08, 2023",
                "JAN 06, 2023",
                "JAN 04, 2023",
                "JAN 02, 2023",
                "DEC 31, 2022",
                "DEC 29, 2022",
                "DEC 27, 2022",
                "DEC 26, 2022",
                "DEC 23, 2022",
                "DEC 21, 2022",
                "DEC 18, 2022",
                "DEC 16, 2022",
                "DEC 14, 2022",
                "DEC 12, 2022",
                "DEC 10, 2022"
               ]
              ]
             }
            ],
            "label": "Rebounds",
            "method": "update"
           },
           {
            "args": [
             {
              "y": [
               [
                2,
                3,
                2,
                2,
                2,
                6,
                3,
                1,
                10,
                6,
                2,
                0,
                5,
                0,
                7
               ],
               [
                "JAN 08, 2023",
                "JAN 06, 2023",
                "JAN 04, 2023",
                "JAN 02, 2023",
                "DEC 31, 2022",
                "DEC 29, 2022",
                "DEC 27, 2022",
                "DEC 26, 2022",
                "DEC 23, 2022",
                "DEC 21, 2022",
                "DEC 18, 2022",
                "DEC 16, 2022",
                "DEC 14, 2022",
                "DEC 12, 2022",
                "DEC 10, 2022"
               ]
              ]
             }
            ],
            "label": "3's",
            "method": "update"
           },
           {
            "args": [
             {
              "y": [
               [
                29,
                27,
                28,
                24,
                34,
                38,
                30,
                18,
                50,
                41,
                25,
                31,
                35,
                7,
                44
               ],
               [
                "JAN 08, 2023",
                "JAN 06, 2023",
                "JAN 04, 2023",
                "JAN 02, 2023",
                "DEC 31, 2022",
                "DEC 29, 2022",
                "DEC 27, 2022",
                "DEC 26, 2022",
                "DEC 23, 2022",
                "DEC 21, 2022",
                "DEC 18, 2022",
                "DEC 16, 2022",
                "DEC 14, 2022",
                "DEC 12, 2022",
                "DEC 10, 2022"
               ]
              ]
             }
            ],
            "label": "P+A",
            "method": "update"
           },
           {
            "args": [
             {
              "y": [
               [
                21,
                19,
                23,
                22,
                31,
                31,
                26,
                13,
                45,
                36,
                16,
                17,
                33,
                4,
                36
               ],
               [
                "JAN 08, 2023",
                "JAN 06, 2023",
                "JAN 04, 2023",
                "JAN 02, 2023",
                "DEC 31, 2022",
                "DEC 29, 2022",
                "DEC 27, 2022",
                "DEC 26, 2022",
                "DEC 23, 2022",
                "DEC 21, 2022",
                "DEC 18, 2022",
                "DEC 16, 2022",
                "DEC 14, 2022",
                "DEC 12, 2022",
                "DEC 10, 2022"
               ]
              ]
             }
            ],
            "label": "P+R",
            "method": "update"
           },
           {
            "args": [
             {
              "y": [
               [
                18,
                16,
                19,
                14,
                17,
                11,
                10,
                7,
                9,
                11,
                11,
                14,
                10,
                9,
                10
               ],
               [
                "JAN 08, 2023",
                "JAN 06, 2023",
                "JAN 04, 2023",
                "JAN 02, 2023",
                "DEC 31, 2022",
                "DEC 29, 2022",
                "DEC 27, 2022",
                "DEC 26, 2022",
                "DEC 23, 2022",
                "DEC 21, 2022",
                "DEC 18, 2022",
                "DEC 16, 2022",
                "DEC 14, 2022",
                "DEC 12, 2022",
                "DEC 10, 2022"
               ]
              ]
             }
            ],
            "label": "R+A",
            "method": "update"
           },
           {
            "args": [
             {
              "y": [
               [
                34,
                31,
                35,
                30,
                41,
                40,
                33,
                19,
                52,
                44,
                26,
                31,
                39,
                10,
                45
               ],
               [
                "JAN 08, 2023",
                "JAN 06, 2023",
                "JAN 04, 2023",
                "JAN 02, 2023",
                "DEC 31, 2022",
                "DEC 29, 2022",
                "DEC 27, 2022",
                "DEC 26, 2022",
                "DEC 23, 2022",
                "DEC 21, 2022",
                "DEC 18, 2022",
                "DEC 16, 2022",
                "DEC 14, 2022",
                "DEC 12, 2022",
                "DEC 10, 2022"
               ]
              ]
             }
            ],
            "label": "P+R+A",
            "method": "update"
           }
          ],
          "direction": "right",
          "showactive": true,
          "type": "buttons",
          "x": 0.7,
          "y": 1.2
         }
        ],
        "xaxis": {
         "anchor": "y",
         "autorange": true,
         "domain": [
          0,
          1
         ],
         "dtick": "M1",
         "range": [
          -0.5,
          14.5
         ],
         "tickformat": "%b\n%Y",
         "title": {
          "text": "Tyrese Haliburton"
         },
         "type": "category"
        },
        "yaxis": {
         "anchor": "x",
         "autorange": true,
         "domain": [
          0,
          1
         ],
         "range": [
          0,
          1.0526315789473684
         ],
         "title": {
          "text": "count"
         },
         "type": "linear"
        }
       }
      },
      "image/png": "[encoded data removed]",
      "text/html": [
       "<div>                            <div id=\"149ab309-34e6-4743-a2df-e252289820e8\" class=\"plotly-graph-div\" style=\"height:525px; width:100%;\"></div>            <script type=\"text/javascript\">                require([\"plotly\"], function(Plotly) {                    window.PLOTLYENV=window.PLOTLYENV || {};                                    if (document.getElementById(\"149ab309-34e6-4743-a2df-e252289820e8\")) {                    Plotly.newPlot(                        \"149ab309-34e6-4743-a2df-e252289820e8\",                        [{\"alignmentgroup\":\"True\",\"hovertemplate\":\"<b>%{hovertext}</b><br><br>GAME_DATE=%{x}<br>count=%{y}<extra></extra>\",\"hovertext\":[\"IND vs. CHA\",\"IND vs. POR\",\"IND @ PHI\",\"IND vs. TOR\",\"IND vs. LAC\",\"IND vs. CLE\",\"IND vs. ATL\",\"IND @ NOP\",\"IND @ MIA\",\"IND @ BOS\",\"IND vs. NYK\",\"IND @ CLE\",\"IND vs. GSW\",\"IND vs. MIA\",\"IND vs. BKN\"],\"legendgroup\":\"\",\"marker\":{\"color\":\"#636efa\",\"pattern\":{\"shape\":\"\"}},\"name\":\"\",\"offsetgroup\":\"\",\"orientation\":\"v\",\"showlegend\":false,\"textposition\":\"auto\",\"x\":[\"JAN 08, 2023\",\"JAN 06, 2023\",\"JAN 04, 2023\",\"JAN 02, 2023\",\"DEC 31, 2022\",\"DEC 29, 2022\",\"DEC 27, 2022\",\"DEC 26, 2022\",\"DEC 23, 2022\",\"DEC 21, 2022\",\"DEC 18, 2022\",\"DEC 16, 2022\",\"DEC 14, 2022\",\"DEC 12, 2022\",\"DEC 10, 2022\"],\"xaxis\":\"x\",\"y\":[1,1,1,1,1,1,1,1,1,1,1,1,1,1,1],\"yaxis\":\"y\",\"type\":\"bar\"}],                        {\"template\":{\"data\":{\"bar\":[{\"error_x\":{\"color\":\"#2a3f5f\"},\"error_y\":{\"color\":\"#2a3f5f\"},\"marker\":{\"line\":{\"color\":\"#E5ECF6\",\"width\":0.5},\"pattern\":{\"fillmode\":\"overlay\",\"size\":10,\"solidity\":0.2}},\"type\":\"bar\"}],\"barpolar\":[{\"marker\":{\"line\":{\"color\":\"#E5ECF6\",\"width\":0.5},\"pattern\":{\"fillmode\":\"overlay\",\"size\":10,\"solidity\":0.2}},\"type\":\"barpolar\"}],\"carpet\":[{\"aaxis\":{\"endlinecolor\":\"#2a3f5f\",\"gridcolor\":\"white\",\"linecolor\":\"white\",\"minorgridcolor\":\"white\",\"startlinecolor\":\"#2a3f5f\"},\"baxis\":{\"endlinecolor\":\"#2a3f5f\",\"gridcolor\":\"white\",\"linecolor\":\"white\",\"minorgridcolor\":\"white\",\"startlinecolor\":\"#2a3f5f\"},\"type\":\"carpet\"}],\"choropleth\":[{\"colorbar\":{\"outlinewidth\":0,\"ticks\":\"\"},\"type\":\"choropleth\"}],\"contour\":[{\"colorbar\":{\"outlinewidth\":0,\"ticks\":\"\"},\"colorscale\":[[0.0,\"#0d0887\"],[0.1111111111111111,\"#46039f\"],[0.2222222222222222,\"#7201a8\"],[0.3333333333333333,\"#9c179e\"],[0.4444444444444444,\"#bd3786\"],[0.5555555555555556,\"#d8576b\"],[0.6666666666666666,\"#ed7953\"],[0.7777777777777778,\"#fb9f3a\"],[0.8888888888888888,\"#fdca26\"],[1.0,\"#f0f921\"]],\"type\":\"contour\"}],\"contourcarpet\":[{\"colorbar\":{\"outlinewidth\":0,\"ticks\":\"\"},\"type\":\"contourcarpet\"}],\"heatmap\":[{\"colorbar\":{\"outlinewidth\":0,\"ticks\":\"\"},\"colorscale\":[[0.0,\"#0d0887\"],[0.1111111111111111,\"#46039f\"],[0.2222222222222222,\"#7201a8\"],[0.3333333333333333,\"#9c179e\"],[0.4444444444444444,\"#bd3786\"],[0.5555555555555556,\"#d8576b\"],[0.6666666666666666,\"#ed7953\"],[0.7777777777777778,\"#fb9f3a\"],[0.8888888888888888,\"#fdca26\"],[1.0,\"#f0f921\"]],\"type\":\"heatmap\"}],\"heatmapgl\":[{\"colorbar\":{\"outlinewidth\":0,\"ticks\":\"\"},\"colorscale\":[[0.0,\"#0d0887\"],[0.1111111111111111,\"#46039f\"],[0.2222222222222222,\"#7201a8\"],[0.3333333333333333,\"#9c179e\"],[0.4444444444444444,\"#bd3786\"],[0.5555555555555556,\"#d8576b\"],[0.6666666666666666,\"#ed7953\"],[0.7777777777777778,\"#fb9f3a\"],[0.8888888888888888,\"#fdca26\"],[1.0,\"#f0f921\"]],\"type\":\"heatmapgl\"}],\"histogram\":[{\"marker\":{\"pattern\":{\"fillmode\":\"overlay\",\"size\":10,\"solidity\":0.2}},\"type\":\"histogram\"}],\"histogram2d\":[{\"colorbar\":{\"outlinewidth\":0,\"ticks\":\"\"},\"colorscale\":[[0.0,\"#0d0887\"],[0.1111111111111111,\"#46039f\"],[0.2222222222222222,\"#7201a8\"],[0.3333333333333333,\"#9c179e\"],[0.4444444444444444,\"#bd3786\"],[0.5555555555555556,\"#d8576b\"],[0.6666666666666666,\"#ed7953\"],[0.7777777777777778,\"#fb9f3a\"],[0.8888888888888888,\"#fdca26\"],[1.0,\"#f0f921\"]],\"type\":\"histogram2d\"}],\"histogram2dcontour\":[{\"colorbar\":{\"outlinewidth\":0,\"ticks\":\"\"},\"colorscale\":[[0.0,\"#0d0887\"],[0.1111111111111111,\"#46039f\"],[0.2222222222222222,\"#7201a8\"],[0.3333333333333333,\"#9c179e\"],[0.4444444444444444,\"#bd3786\"],[0.5555555555555556,\"#d8576b\"],[0.6666666666666666,\"#ed7953\"],[0.7777777777777778,\"#fb9f3a\"],[0.8888888888888888,\"#fdca26\"],[1.0,\"#f0f921\"]],\"type\":\"histogram2dcontour\"}],\"mesh3d\":[{\"colorbar\":{\"outlinewidth\":0,\"ticks\":\"\"},\"type\":\"mesh3d\"}],\"parcoords\":[{\"line\":{\"colorbar\":{\"outlinewidth\":0,\"ticks\":\"\"}},\"type\":\"parcoords\"}],\"pie\":[{\"automargin\":true,\"type\":\"pie\"}],\"scatter\":[{\"marker\":{\"colorbar\":{\"outlinewidth\":0,\"ticks\":\"\"}},\"type\":\"scatter\"}],\"scatter3d\":[{\"line\":{\"colorbar\":{\"outlinewidth\":0,\"ticks\":\"\"}},\"marker\":{\"colorbar\":{\"outlinewidth\":0,\"ticks\":\"\"}},\"type\":\"scatter3d\"}],\"scattercarpet\":[{\"marker\":{\"colorbar\":{\"outlinewidth\":0,\"ticks\":\"\"}},\"type\":\"scattercarpet\"}],\"scattergeo\":[{\"marker\":{\"colorbar\":{\"outlinewidth\":0,\"ticks\":\"\"}},\"type\":\"scattergeo\"}],\"scattergl\":[{\"marker\":{\"colorbar\":{\"outlinewidth\":0,\"ticks\":\"\"}},\"type\":\"scattergl\"}],\"scattermapbox\":[{\"marker\":{\"colorbar\":{\"outlinewidth\":0,\"ticks\":\"\"}},\"type\":\"scattermapbox\"}],\"scatterpolar\":[{\"marker\":{\"colorbar\":{\"outlinewidth\":0,\"ticks\":\"\"}},\"type\":\"scatterpolar\"}],\"scatterpolargl\":[{\"marker\":{\"colorbar\":{\"outlinewidth\":0,\"ticks\":\"\"}},\"type\":\"scatterpolargl\"}],\"scatterternary\":[{\"marker\":{\"colorbar\":{\"outlinewidth\":0,\"ticks\":\"\"}},\"type\":\"scatterternary\"}],\"surface\":[{\"colorbar\":{\"outlinewidth\":0,\"ticks\":\"\"},\"colorscale\":[[0.0,\"#0d0887\"],[0.1111111111111111,\"#46039f\"],[0.2222222222222222,\"#7201a8\"],[0.3333333333333333,\"#9c179e\"],[0.4444444444444444,\"#bd3786\"],[0.5555555555555556,\"#d8576b\"],[0.6666666666666666,\"#ed7953\"],[0.7777777777777778,\"#fb9f3a\"],[0.8888888888888888,\"#fdca26\"],[1.0,\"#f0f921\"]],\"type\":\"surface\"}],\"table\":[{\"cells\":{\"fill\":{\"color\":\"#EBF0F8\"},\"line\":{\"color\":\"white\"}},\"header\":{\"fill\":{\"color\":\"#C8D4E3\"},\"line\":{\"color\":\"white\"}},\"type\":\"table\"}]},\"layout\":{\"annotationdefaults\":{\"arrowcolor\":\"#2a3f5f\",\"arrowhead\":0,\"arrowwidth\":1},\"autotypenumbers\":\"strict\",\"coloraxis\":{\"colorbar\":{\"outlinewidth\":0,\"ticks\":\"\"}},\"colorscale\":{\"diverging\":[[0,\"#8e0152\"],[0.1,\"#c51b7d\"],[0.2,\"#de77ae\"],[0.3,\"#f1b6da\"],[0.4,\"#fde0ef\"],[0.5,\"#f7f7f7\"],[0.6,\"#e6f5d0\"],[0.7,\"#b8e186\"],[0.8,\"#7fbc41\"],[0.9,\"#4d9221\"],[1,\"#276419\"]],\"sequential\":[[0.0,\"#0d0887\"],[0.1111111111111111,\"#46039f\"],[0.2222222222222222,\"#7201a8\"],[0.3333333333333333,\"#9c179e\"],[0.4444444444444444,\"#bd3786\"],[0.5555555555555556,\"#d8576b\"],[0.6666666666666666,\"#ed7953\"],[0.7777777777777778,\"#fb9f3a\"],[0.8888888888888888,\"#fdca26\"],[1.0,\"#f0f921\"]],\"sequentialminus\":[[0.0,\"#0d0887\"],[0.1111111111111111,\"#46039f\"],[0.2222222222222222,\"#7201a8\"],[0.3333333333333333,\"#9c179e\"],[0.4444444444444444,\"#bd3786\"],[0.5555555555555556,\"#d8576b\"],[0.6666666666666666,\"#ed7953\"],[0.7777777777777778,\"#fb9f3a\"],[0.8888888888888888,\"#fdca26\"],[1.0,\"#f0f921\"]]},\"colorway\":[\"#636efa\",\"#EF553B\",\"#00cc96\",\"#ab63fa\",\"#FFA15A\",\"#19d3f3\",\"#FF6692\",\"#B6E880\",\"#FF97FF\",\"#FECB52\"],\"font\":{\"color\":\"#2a3f5f\"},\"geo\":{\"bgcolor\":\"white\",\"lakecolor\":\"white\",\"landcolor\":\"#E5ECF6\",\"showlakes\":true,\"showland\":true,\"subunitcolor\":\"white\"},\"hoverlabel\":{\"align\":\"left\"},\"hovermode\":\"closest\",\"mapbox\":{\"style\":\"light\"},\"paper_bgcolor\":\"white\",\"plot_bgcolor\":\"#E5ECF6\",\"polar\":{\"angularaxis\":{\"gridcolor\":\"white\",\"linecolor\":\"white\",\"ticks\":\"\"},\"bgcolor\":\"#E5ECF6\",\"radialaxis\":{\"gridcolor\":\"white\",\"linecolor\":\"white\",\"ticks\":\"\"}},\"scene\":{\"xaxis\":{\"backgroundcolor\":\"#E5ECF6\",\"gridcolor\":\"white\",\"gridwidth\":2,\"linecolor\":\"white\",\"showbackground\":true,\"ticks\":\"\",\"zerolinecolor\":\"white\"},\"yaxis\":{\"backgroundcolor\":\"#E5ECF6\",\"gridcolor\":\"white\",\"gridwidth\":2,\"linecolor\":\"white\",\"showbackground\":true,\"ticks\":\"\",\"zerolinecolor\":\"white\"},\"zaxis\":{\"backgroundcolor\":\"#E5ECF6\",\"gridcolor\":\"white\",\"gridwidth\":2,\"linecolor\":\"white\",\"showbackground\":true,\"ticks\":\"\",\"zerolinecolor\":\"white\"}},\"shapedefaults\":{\"line\":{\"color\":\"#2a3f5f\"}},\"ternary\":{\"aaxis\":{\"gridcolor\":\"white\",\"linecolor\":\"white\",\"ticks\":\"\"},\"baxis\":{\"gridcolor\":\"white\",\"linecolor\":\"white\",\"ticks\":\"\"},\"bgcolor\":\"#E5ECF6\",\"caxis\":{\"gridcolor\":\"white\",\"linecolor\":\"white\",\"ticks\":\"\"}},\"title\":{\"x\":0.05},\"xaxis\":{\"automargin\":true,\"gridcolor\":\"white\",\"linecolor\":\"white\",\"ticks\":\"\",\"title\":{\"standoff\":15},\"zerolinecolor\":\"white\",\"zerolinewidth\":2},\"yaxis\":{\"automargin\":true,\"gridcolor\":\"white\",\"linecolor\":\"white\",\"ticks\":\"\",\"title\":{\"standoff\":15},\"zerolinecolor\":\"white\",\"zerolinewidth\":2}}},\"xaxis\":{\"anchor\":\"y\",\"domain\":[0.0,1.0],\"title\":{\"text\":\"Tyrese Haliburton\"},\"dtick\":\"M1\",\"tickformat\":\"%b\\n%Y\"},\"yaxis\":{\"anchor\":\"x\",\"domain\":[0.0,1.0],\"title\":{\"text\":\"count\"}},\"legend\":{\"tracegroupgap\":0},\"margin\":{\"t\":60},\"barmode\":\"relative\",\"updatemenus\":[{\"buttons\":[{\"args\":[{\"y\":[[16,15,16,16,24,29,23,12,43,33,15,17,29,1,35],[\"JAN 08, 2023\",\"JAN 06, 2023\",\"JAN 04, 2023\",\"JAN 02, 2023\",\"DEC 31, 2022\",\"DEC 29, 2022\",\"DEC 27, 2022\",\"DEC 26, 2022\",\"DEC 23, 2022\",\"DEC 21, 2022\",\"DEC 18, 2022\",\"DEC 16, 2022\",\"DEC 14, 2022\",\"DEC 12, 2022\",\"DEC 10, 2022\"]]}],\"label\":\"Points\",\"method\":\"update\"},{\"args\":[{\"y\":[[13,12,12,8,10,9,7,6,7,8,10,14,6,6,9],[\"JAN 08, 2023\",\"JAN 06, 2023\",\"JAN 04, 2023\",\"JAN 02, 2023\",\"DEC 31, 2022\",\"DEC 29, 2022\",\"DEC 27, 2022\",\"DEC 26, 2022\",\"DEC 23, 2022\",\"DEC 21, 2022\",\"DEC 18, 2022\",\"DEC 16, 2022\",\"DEC 14, 2022\",\"DEC 12, 2022\",\"DEC 10, 2022\"]]}],\"label\":\"Assists\",\"method\":\"update\"},{\"args\":[{\"y\":[[5,4,7,6,7,2,3,1,2,3,1,0,4,3,1],[\"JAN 08, 2023\",\"JAN 06, 2023\",\"JAN 04, 2023\",\"JAN 02, 2023\",\"DEC 31, 2022\",\"DEC 29, 2022\",\"DEC 27, 2022\",\"DEC 26, 2022\",\"DEC 23, 2022\",\"DEC 21, 2022\",\"DEC 18, 2022\",\"DEC 16, 2022\",\"DEC 14, 2022\",\"DEC 12, 2022\",\"DEC 10, 2022\"]]}],\"label\":\"Rebounds\",\"method\":\"update\"},{\"args\":[{\"y\":[[2,3,2,2,2,6,3,1,10,6,2,0,5,0,7],[\"JAN 08, 2023\",\"JAN 06, 2023\",\"JAN 04, 2023\",\"JAN 02, 2023\",\"DEC 31, 2022\",\"DEC 29, 2022\",\"DEC 27, 2022\",\"DEC 26, 2022\",\"DEC 23, 2022\",\"DEC 21, 2022\",\"DEC 18, 2022\",\"DEC 16, 2022\",\"DEC 14, 2022\",\"DEC 12, 2022\",\"DEC 10, 2022\"]]}],\"label\":\"3's\",\"method\":\"update\"},{\"args\":[{\"y\":[[29,27,28,24,34,38,30,18,50,41,25,31,35,7,44],[\"JAN 08, 2023\",\"JAN 06, 2023\",\"JAN 04, 2023\",\"JAN 02, 2023\",\"DEC 31, 2022\",\"DEC 29, 2022\",\"DEC 27, 2022\",\"DEC 26, 2022\",\"DEC 23, 2022\",\"DEC 21, 2022\",\"DEC 18, 2022\",\"DEC 16, 2022\",\"DEC 14, 2022\",\"DEC 12, 2022\",\"DEC 10, 2022\"]]}],\"label\":\"P+A\",\"method\":\"update\"},{\"args\":[{\"y\":[[21,19,23,22,31,31,26,13,45,36,16,17,33,4,36],[\"JAN 08, 2023\",\"JAN 06, 2023\",\"JAN 04, 2023\",\"JAN 02, 2023\",\"DEC 31, 2022\",\"DEC 29, 2022\",\"DEC 27, 2022\",\"DEC 26, 2022\",\"DEC 23, 2022\",\"DEC 21, 2022\",\"DEC 18, 2022\",\"DEC 16, 2022\",\"DEC 14, 2022\",\"DEC 12, 2022\",\"DEC 10, 2022\"]]}],\"label\":\"P+R\",\"method\":\"update\"},{\"args\":[{\"y\":[[18,16,19,14,17,11,10,7,9,11,11,14,10,9,10],[\"JAN 08, 2023\",\"JAN 06, 2023\",\"JAN 04, 2023\",\"JAN 02, 2023\",\"DEC 31, 2022\",\"DEC 29, 2022\",\"DEC 27, 2022\",\"DEC 26, 2022\",\"DEC 23, 2022\",\"DEC 21, 2022\",\"DEC 18, 2022\",\"DEC 16, 2022\",\"DEC 14, 2022\",\"DEC 12, 2022\",\"DEC 10, 2022\"]]}],\"label\":\"R+A\",\"method\":\"update\"},{\"args\":[{\"y\":[[34,31,35,30,41,40,33,19,52,44,26,31,39,10,45],[\"JAN 08, 2023\",\"JAN 06, 2023\",\"JAN 04, 2023\",\"JAN 02, 2023\",\"DEC 31, 2022\",\"DEC 29, 2022\",\"DEC 27, 2022\",\"DEC 26, 2022\",\"DEC 23, 2022\",\"DEC 21, 2022\",\"DEC 18, 2022\",\"DEC 16, 2022\",\"DEC 14, 2022\",\"DEC 12, 2022\",\"DEC 10, 2022\"]]}],\"label\":\"P+R+A\",\"method\":\"update\"}],\"direction\":\"right\",\"showactive\":true,\"type\":\"buttons\",\"x\":0.7,\"y\":1.2}]},                        {\"responsive\": true}                    ).then(function(){\n",
       "                            \n",
       "var gd = document.getElementById('149ab309-34e6-4743-a2df-e252289820e8');\n",
       "var x = new MutationObserver(function (mutations, observer) {{\n",
       "        var display = window.getComputedStyle(gd).display;\n",
       "        if (!display || display === 'none') {{\n",
       "            console.log([gd, 'removed!']);\n",
       "            Plotly.purge(gd);\n",
       "            observer.disconnect();\n",
       "        }}\n",
       "}});\n",
       "\n",
       "// Listen for the removal of the full notebook cells\n",
       "var notebookContainer = gd.closest('#notebook-container');\n",
       "if (notebookContainer) {{\n",
       "    x.observe(notebookContainer, {childList: true});\n",
       "}}\n",
       "\n",
       "// Listen for the clearing of the current output cell\n",
       "var outputEl = gd.closest('.output');\n",
       "if (outputEl) {{\n",
       "    x.observe(outputEl, {childList: true});\n",
       "}}\n",
       "\n",
       "                        })                };                });            </script>        </div>"
      ]
     },
     "metadata": {},
     "output_type": "display_data"
    }
   ],
   "source": [
    "import plotly.express as px\n",
    "data = play_no\n",
    "fig = px.bar(data, x = \"GAME_DATE\", hover_name= \"MATCHUP\",\n",
    "             hover_data=[\"GAME_DATE\"])\n",
    "fig.update_xaxes(\n",
    "    dtick = \"M1\",\n",
    "    tickformat = \"%b\\n%Y\",\n",
    "    title = inplayer,)\n",
    "\n",
    "fig.update_layout(\n",
    "    updatemenus=[\n",
    "        dict(\n",
    "            type=\"buttons\",\n",
    "            direction=\"right\",\n",
    "            x=0.7,\n",
    "            y=1.2,\n",
    "            showactive=True,\n",
    "            buttons=list(\n",
    "                [\n",
    "                    dict(\n",
    "                        label=\"Points\",\n",
    "                        method=\"update\",\n",
    "                        args=[{\"y\": [data[\"PTS\"], data[\"GAME_DATE\"]]}]\n",
    "                        \n",
    "                       \n",
    "                    ),\n",
    "                    dict(\n",
    "                        label=\"Assists\",\n",
    "                        method=\"update\",\n",
    "                        args=[{\"y\": [data[\"AST\"], data[\"GAME_DATE\"]]}],  \n",
    "                        \n",
    "                    ),\n",
    "                    dict(\n",
    "                        label = \"Rebounds\",\n",
    "                        method = \"update\",\n",
    "                        args=[{\"y\":[data[\"REB\"], data[\"GAME_DATE\"]]}],\n",
    "                    \n",
    "                        \n",
    "                    ),\n",
    "                    dict(\n",
    "                        label = \"3's\",\n",
    "                        method = \"update\",\n",
    "                        args=[{\"y\":[data[\"FG3M\"], data[\"GAME_DATE\"]]}],\n",
    "                    \n",
    "                    ),\n",
    "                    dict(\n",
    "                        label = \"P+A\",\n",
    "                        method = \"update\",\n",
    "                        args=[{\"y\":[data[\"P+A\"], data[\"GAME_DATE\"]]}],\n",
    "                        \n",
    "                    ),\n",
    "                    dict(\n",
    "                        label = \"P+R\",\n",
    "                        method = \"update\",\n",
    "                        args=[{\"y\":[data[\"P+R\"], data[\"GAME_DATE\"]]}],\n",
    "                \n",
    "                    ),\n",
    "                    dict(\n",
    "                        label = \"R+A\",\n",
    "                        method=\"update\",\n",
    "                        args=[{\"y\":[data[\"R+A\"], data[\"GAME_DATE\"]]}],\n",
    "                    ),\n",
    "                    dict(\n",
    "                        label = \"P+R+A\",\n",
    "                        method=\"update\",\n",
    "                        args=[{\"y\":[data[\"P+R+A\"], data[\"GAME_DATE\"]]}],\n",
    "                        \n",
    "                    ),\n",
    "                    \n",
    "                ]\n",
    "            ),\n",
    "        )\n",
    "    ]\n",
    ")\n",
    "fig.show()"
   ]
  },
  {
   "cell_type": "markdown",
   "id": "0ea4cde8-a59c-4377-960a-5eab980dfd9b",
   "metadata": {},
   "source": [
    "## Subplots\n",
    "\n",
    "Now import the subplot modules from plotly and graph objects so all the visualisations can be seen at once and lines showing the median and mean can be added. Each statistic requires a new trace and location to be shown. the Mean and median lines must correspond with the location set for each trace. The median and mean were found in cells 12 and 13."
   ]
  },
  {
   "cell_type": "code",
   "execution_count": 125,
   "id": "886e84ca-b813-4374-8d7b-70142daa7e4b",
   "metadata": {},
   "outputs": [
    {
     "data": {
      "application/vnd.plotly.v1+json": {
       "config": {
        "plotlyServerURL": "https://plot.ly"
       },
       "data": [
        {
         "name": "Points",
         "text": [
          "IND vs. CHA",
          "IND vs. POR",
          "IND @ PHI",
          "IND vs. TOR",
          "IND vs. LAC",
          "IND vs. CLE",
          "IND vs. ATL",
          "IND @ NOP",
          "IND @ MIA",
          "IND @ BOS",
          "IND vs. NYK",
          "IND @ CLE",
          "IND vs. GSW",
          "IND vs. MIA",
          "IND vs. BKN"
         ],
         "type": "bar",
         "x": [
          "JAN 08, 2023",
          "JAN 06, 2023",
          "JAN 04, 2023",
          "JAN 02, 2023",
          "DEC 31, 2022",
          "DEC 29, 2022",
          "DEC 27, 2022",
          "DEC 26, 2022",
          "DEC 23, 2022",
          "DEC 21, 2022",
          "DEC 18, 2022",
          "DEC 16, 2022",
          "DEC 14, 2022",
          "DEC 12, 2022",
          "DEC 10, 2022"
         ],
         "xaxis": "x",
         "y": [
          16,
          15,
          16,
          16,
          24,
          29,
          23,
          12,
          43,
          33,
          15,
          17,
          29,
          1,
          35
         ],
         "yaxis": "y"
        },
        {
         "name": "Assists",
         "text": [
          "IND vs. CHA",
          "IND vs. POR",
          "IND @ PHI",
          "IND vs. TOR",
          "IND vs. LAC",
          "IND vs. CLE",
          "IND vs. ATL",
          "IND @ NOP",
          "IND @ MIA",
          "IND @ BOS",
          "IND vs. NYK",
          "IND @ CLE",
          "IND vs. GSW",
          "IND vs. MIA",
          "IND vs. BKN"
         ],
         "type": "bar",
         "x": [
          "JAN 08, 2023",
          "JAN 06, 2023",
          "JAN 04, 2023",
          "JAN 02, 2023",
          "DEC 31, 2022",
          "DEC 29, 2022",
          "DEC 27, 2022",
          "DEC 26, 2022",
          "DEC 23, 2022",
          "DEC 21, 2022",
          "DEC 18, 2022",
          "DEC 16, 2022",
          "DEC 14, 2022",
          "DEC 12, 2022",
          "DEC 10, 2022"
         ],
         "xaxis": "x2",
         "y": [
          13,
          12,
          12,
          8,
          10,
          9,
          7,
          6,
          7,
          8,
          10,
          14,
          6,
          6,
          9
         ],
         "yaxis": "y2"
        },
        {
         "name": "Rebounds",
         "text": [
          "IND vs. CHA",
          "IND vs. POR",
          "IND @ PHI",
          "IND vs. TOR",
          "IND vs. LAC",
          "IND vs. CLE",
          "IND vs. ATL",
          "IND @ NOP",
          "IND @ MIA",
          "IND @ BOS",
          "IND vs. NYK",
          "IND @ CLE",
          "IND vs. GSW",
          "IND vs. MIA",
          "IND vs. BKN"
         ],
         "type": "bar",
         "x": [
          "JAN 08, 2023",
          "JAN 06, 2023",
          "JAN 04, 2023",
          "JAN 02, 2023",
          "DEC 31, 2022",
          "DEC 29, 2022",
          "DEC 27, 2022",
          "DEC 26, 2022",
          "DEC 23, 2022",
          "DEC 21, 2022",
          "DEC 18, 2022",
          "DEC 16, 2022",
          "DEC 14, 2022",
          "DEC 12, 2022",
          "DEC 10, 2022"
         ],
         "xaxis": "x3",
         "y": [
          5,
          4,
          7,
          6,
          7,
          2,
          3,
          1,
          2,
          3,
          1,
          0,
          4,
          3,
          1
         ],
         "yaxis": "y3"
        },
        {
         "name": "P+A",
         "text": [
          "IND vs. CHA",
          "IND vs. POR",
          "IND @ PHI",
          "IND vs. TOR",
          "IND vs. LAC",
          "IND vs. CLE",
          "IND vs. ATL",
          "IND @ NOP",
          "IND @ MIA",
          "IND @ BOS",
          "IND vs. NYK",
          "IND @ CLE",
          "IND vs. GSW",
          "IND vs. MIA",
          "IND vs. BKN"
         ],
         "type": "bar",
         "x": [
          "JAN 08, 2023",
          "JAN 06, 2023",
          "JAN 04, 2023",
          "JAN 02, 2023",
          "DEC 31, 2022",
          "DEC 29, 2022",
          "DEC 27, 2022",
          "DEC 26, 2022",
          "DEC 23, 2022",
          "DEC 21, 2022",
          "DEC 18, 2022",
          "DEC 16, 2022",
          "DEC 14, 2022",
          "DEC 12, 2022",
          "DEC 10, 2022"
         ],
         "xaxis": "x6",
         "y": [
          29,
          27,
          28,
          24,
          34,
          38,
          30,
          18,
          50,
          41,
          25,
          31,
          35,
          7,
          44
         ],
         "yaxis": "y6"
        },
        {
         "name": "P+R",
         "text": [
          "IND vs. CHA",
          "IND vs. POR",
          "IND @ PHI",
          "IND vs. TOR",
          "IND vs. LAC",
          "IND vs. CLE",
          "IND vs. ATL",
          "IND @ NOP",
          "IND @ MIA",
          "IND @ BOS",
          "IND vs. NYK",
          "IND @ CLE",
          "IND vs. GSW",
          "IND vs. MIA",
          "IND vs. BKN"
         ],
         "type": "bar",
         "x": [
          "JAN 08, 2023",
          "JAN 06, 2023",
          "JAN 04, 2023",
          "JAN 02, 2023",
          "DEC 31, 2022",
          "DEC 29, 2022",
          "DEC 27, 2022",
          "DEC 26, 2022",
          "DEC 23, 2022",
          "DEC 21, 2022",
          "DEC 18, 2022",
          "DEC 16, 2022",
          "DEC 14, 2022",
          "DEC 12, 2022",
          "DEC 10, 2022"
         ],
         "xaxis": "x7",
         "y": [
          21,
          19,
          23,
          22,
          31,
          31,
          26,
          13,
          45,
          36,
          16,
          17,
          33,
          4,
          36
         ],
         "yaxis": "y7"
        },
        {
         "name": "R+A",
         "text": [
          "IND vs. CHA",
          "IND vs. POR",
          "IND @ PHI",
          "IND vs. TOR",
          "IND vs. LAC",
          "IND vs. CLE",
          "IND vs. ATL",
          "IND @ NOP",
          "IND @ MIA",
          "IND @ BOS",
          "IND vs. NYK",
          "IND @ CLE",
          "IND vs. GSW",
          "IND vs. MIA",
          "IND vs. BKN"
         ],
         "type": "bar",
         "x": [
          "JAN 08, 2023",
          "JAN 06, 2023",
          "JAN 04, 2023",
          "JAN 02, 2023",
          "DEC 31, 2022",
          "DEC 29, 2022",
          "DEC 27, 2022",
          "DEC 26, 2022",
          "DEC 23, 2022",
          "DEC 21, 2022",
          "DEC 18, 2022",
          "DEC 16, 2022",
          "DEC 14, 2022",
          "DEC 12, 2022",
          "DEC 10, 2022"
         ],
         "xaxis": "x5",
         "y": [
          18,
          16,
          19,
          14,
          17,
          11,
          10,
          7,
          9,
          11,
          11,
          14,
          10,
          9,
          10
         ],
         "yaxis": "y5"
        },
        {
         "name": "P+R+A",
         "text": [
          "IND vs. CHA",
          "IND vs. POR",
          "IND @ PHI",
          "IND vs. TOR",
          "IND vs. LAC",
          "IND vs. CLE",
          "IND vs. ATL",
          "IND @ NOP",
          "IND @ MIA",
          "IND @ BOS",
          "IND vs. NYK",
          "IND @ CLE",
          "IND vs. GSW",
          "IND vs. MIA",
          "IND vs. BKN"
         ],
         "type": "bar",
         "x": [
          "JAN 08, 2023",
          "JAN 06, 2023",
          "JAN 04, 2023",
          "JAN 02, 2023",
          "DEC 31, 2022",
          "DEC 29, 2022",
          "DEC 27, 2022",
          "DEC 26, 2022",
          "DEC 23, 2022",
          "DEC 21, 2022",
          "DEC 18, 2022",
          "DEC 16, 2022",
          "DEC 14, 2022",
          "DEC 12, 2022",
          "DEC 10, 2022"
         ],
         "xaxis": "x4",
         "y": [
          34,
          31,
          35,
          30,
          41,
          40,
          33,
          19,
          52,
          44,
          26,
          31,
          39,
          10,
          45
         ],
         "yaxis": "y4"
        },
        {
         "name": "3's",
         "text": [
          "IND vs. CHA",
          "IND vs. POR",
          "IND @ PHI",
          "IND vs. TOR",
          "IND vs. LAC",
          "IND vs. CLE",
          "IND vs. ATL",
          "IND @ NOP",
          "IND @ MIA",
          "IND @ BOS",
          "IND vs. NYK",
          "IND @ CLE",
          "IND vs. GSW",
          "IND vs. MIA",
          "IND vs. BKN"
         ],
         "type": "bar",
         "x": [
          "JAN 08, 2023",
          "JAN 06, 2023",
          "JAN 04, 2023",
          "JAN 02, 2023",
          "DEC 31, 2022",
          "DEC 29, 2022",
          "DEC 27, 2022",
          "DEC 26, 2022",
          "DEC 23, 2022",
          "DEC 21, 2022",
          "DEC 18, 2022",
          "DEC 16, 2022",
          "DEC 14, 2022",
          "DEC 12, 2022",
          "DEC 10, 2022"
         ],
         "xaxis": "x8",
         "y": [
          2,
          3,
          2,
          2,
          2,
          6,
          3,
          1,
          10,
          6,
          2,
          0,
          5,
          0,
          7
         ],
         "yaxis": "y8"
        }
       ],
       "layout": {
        "annotations": [
         {
          "font": {
           "size": 16
          },
          "showarrow": false,
          "text": "Points",
          "x": 0.10625,
          "xanchor": "center",
          "xref": "paper",
          "y": 1,
          "yanchor": "bottom",
          "yref": "paper"
         },
         {
          "font": {
           "size": 16
          },
          "showarrow": false,
          "text": "Assists",
          "x": 0.36875,
          "xanchor": "center",
          "xref": "paper",
          "y": 1,
          "yanchor": "bottom",
          "yref": "paper"
         },
         {
          "font": {
           "size": 16
          },
          "showarrow": false,
          "text": "Rebounds",
          "x": 0.6312500000000001,
          "xanchor": "center",
          "xref": "paper",
          "y": 1,
          "yanchor": "bottom",
          "yref": "paper"
         },
         {
          "font": {
           "size": 16
          },
          "showarrow": false,
          "text": "P+R+A",
          "x": 0.89375,
          "xanchor": "center",
          "xref": "paper",
          "y": 1,
          "yanchor": "bottom",
          "yref": "paper"
         },
         {
          "font": {
           "size": 16
          },
          "showarrow": false,
          "text": "R+A",
          "x": 0.10625,
          "xanchor": "center",
          "xref": "paper",
          "y": 0.375,
          "yanchor": "bottom",
          "yref": "paper"
         },
         {
          "font": {
           "size": 16
          },
          "showarrow": false,
          "text": "P+A",
          "x": 0.36875,
          "xanchor": "center",
          "xref": "paper",
          "y": 0.375,
          "yanchor": "bottom",
          "yref": "paper"
         },
         {
          "font": {
           "size": 16
          },
          "showarrow": false,
          "text": "P+R",
          "x": 0.6312500000000001,
          "xanchor": "center",
          "xref": "paper",
          "y": 0.375,
          "yanchor": "bottom",
          "yref": "paper"
         },
         {
          "font": {
           "size": 16
          },
          "showarrow": false,
          "text": "3's",
          "x": 0.89375,
          "xanchor": "center",
          "xref": "paper",
          "y": 0.375,
          "yanchor": "bottom",
          "yref": "paper"
         },
         {
          "showarrow": false,
          "text": "Median",
          "x": 1,
          "xanchor": "right",
          "xref": "x domain",
          "y": 17,
          "yanchor": "bottom",
          "yref": "y"
         },
         {
          "showarrow": false,
          "text": "Mean",
          "x": 0,
          "xanchor": "right",
          "xref": "x domain",
          "y": 21.6,
          "yanchor": "middle",
          "yref": "y"
         },
         {
          "showarrow": false,
          "text": "Median",
          "x": 1,
          "xanchor": "right",
          "xref": "x2 domain",
          "y": 9,
          "yanchor": "bottom",
          "yref": "y2"
         },
         {
          "showarrow": false,
          "text": "Mean",
          "x": 0,
          "xanchor": "right",
          "xref": "x2 domain",
          "y": 9.133333333333333,
          "yanchor": "middle",
          "yref": "y2"
         },
         {
          "showarrow": false,
          "text": "Median",
          "x": 1,
          "xanchor": "right",
          "xref": "x3 domain",
          "y": 3,
          "yanchor": "bottom",
          "yref": "y3"
         },
         {
          "showarrow": false,
          "text": "Mean",
          "x": 0,
          "xanchor": "right",
          "xref": "x3 domain",
          "y": 3.2666666666666666,
          "yanchor": "middle",
          "yref": "y3"
         },
         {
          "showarrow": false,
          "text": "Median",
          "x": 1,
          "xanchor": "right",
          "xref": "x6 domain",
          "y": 30,
          "yanchor": "bottom",
          "yref": "y6"
         },
         {
          "showarrow": false,
          "text": "Mean",
          "x": 0,
          "xanchor": "right",
          "xref": "x6 domain",
          "y": 30.733333333333334,
          "yanchor": "middle",
          "yref": "y6"
         },
         {
          "showarrow": false,
          "text": "Median",
          "x": 1,
          "xanchor": "right",
          "xref": "x7 domain",
          "y": 23,
          "yanchor": "bottom",
          "yref": "y7"
         },
         {
          "showarrow": false,
          "text": "Mean",
          "x": 0,
          "xanchor": "right",
          "xref": "x7 domain",
          "y": 24.866666666666667,
          "yanchor": "middle",
          "yref": "y7"
         },
         {
          "showarrow": false,
          "text": "Median",
          "x": 1,
          "xanchor": "right",
          "xref": "x5 domain",
          "y": 11,
          "yanchor": "bottom",
          "yref": "y5"
         },
         {
          "showarrow": false,
          "text": "Mean",
          "x": 0,
          "xanchor": "right",
          "xref": "x5 domain",
          "y": 12.4,
          "yanchor": "middle",
          "yref": "y5"
         },
         {
          "showarrow": false,
          "text": "Median",
          "x": 1,
          "xanchor": "right",
          "xref": "x4 domain",
          "y": 34,
          "yanchor": "bottom",
          "yref": "y4"
         },
         {
          "showarrow": false,
          "text": "Mean",
          "x": 0,
          "xanchor": "right",
          "xref": "x4 domain",
          "y": 34,
          "yanchor": "middle",
          "yref": "y4"
         },
         {
          "showarrow": false,
          "text": "Median",
          "x": 1,
          "xanchor": "right",
          "xref": "x8 domain",
          "y": 2,
          "yanchor": "bottom",
          "yref": "y8"
         },
         {
          "showarrow": false,
          "text": "Mean",
          "x": 0,
          "xanchor": "right",
          "xref": "x8 domain",
          "y": 3.4,
          "yanchor": "middle",
          "yref": "y8"
         }
        ],
        "height": 750,
        "shapes": [
         {
          "type": "line",
          "x0": 0,
          "x1": 1,
          "xref": "x domain",
          "y0": 17,
          "y1": 17,
          "yref": "y"
         },
         {
          "line": {
           "color": "red"
          },
          "type": "line",
          "x0": 0,
          "x1": 1,
          "xref": "x domain",
          "y0": 21.6,
          "y1": 21.6,
          "yref": "y"
         },
         {
          "type": "line",
          "x0": 0,
          "x1": 1,
          "xref": "x2 domain",
          "y0": 9,
          "y1": 9,
          "yref": "y2"
         },
         {
          "line": {
           "color": "red"
          },
          "type": "line",
          "x0": 0,
          "x1": 1,
          "xref": "x2 domain",
          "y0": 9.133333333333333,
          "y1": 9.133333333333333,
          "yref": "y2"
         },
         {
          "type": "line",
          "x0": 0,
          "x1": 1,
          "xref": "x3 domain",
          "y0": 3,
          "y1": 3,
          "yref": "y3"
         },
         {
          "line": {
           "color": "red"
          },
          "type": "line",
          "x0": 0,
          "x1": 1,
          "xref": "x3 domain",
          "y0": 3.2666666666666666,
          "y1": 3.2666666666666666,
          "yref": "y3"
         },
         {
          "type": "line",
          "x0": 0,
          "x1": 1,
          "xref": "x6 domain",
          "y0": 30,
          "y1": 30,
          "yref": "y6"
         },
         {
          "line": {
           "color": "red"
          },
          "type": "line",
          "x0": 0,
          "x1": 1,
          "xref": "x6 domain",
          "y0": 30.733333333333334,
          "y1": 30.733333333333334,
          "yref": "y6"
         },
         {
          "type": "line",
          "x0": 0,
          "x1": 1,
          "xref": "x7 domain",
          "y0": 23,
          "y1": 23,
          "yref": "y7"
         },
         {
          "line": {
           "color": "red"
          },
          "type": "line",
          "x0": 0,
          "x1": 1,
          "xref": "x7 domain",
          "y0": 24.866666666666667,
          "y1": 24.866666666666667,
          "yref": "y7"
         },
         {
          "type": "line",
          "x0": 0,
          "x1": 1,
          "xref": "x5 domain",
          "y0": 11,
          "y1": 11,
          "yref": "y5"
         },
         {
          "line": {
           "color": "red"
          },
          "type": "line",
          "x0": 0,
          "x1": 1,
          "xref": "x5 domain",
          "y0": 12.4,
          "y1": 12.4,
          "yref": "y5"
         },
         {
          "type": "line",
          "x0": 0,
          "x1": 1,
          "xref": "x4 domain",
          "y0": 34,
          "y1": 34,
          "yref": "y4"
         },
         {
          "line": {
           "color": "red"
          },
          "type": "line",
          "x0": 0,
          "x1": 1,
          "xref": "x4 domain",
          "y0": 34,
          "y1": 34,
          "yref": "y4"
         },
         {
          "type": "line",
          "x0": 0,
          "x1": 1,
          "xref": "x8 domain",
          "y0": 2,
          "y1": 2,
          "yref": "y8"
         },
         {
          "line": {
           "color": "red"
          },
          "type": "line",
          "x0": 0,
          "x1": 1,
          "xref": "x8 domain",
          "y0": 3.4,
          "y1": 3.4,
          "yref": "y8"
         }
        ],
        "template": {
         "data": {
          "bar": [
           {
            "error_x": {
             "color": "#2a3f5f"
            },
            "error_y": {
             "color": "#2a3f5f"
            },
            "marker": {
             "line": {
              "color": "#E5ECF6",
              "width": 0.5
             },
             "pattern": {
              "fillmode": "overlay",
              "size": 10,
              "solidity": 0.2
             }
            },
            "type": "bar"
           }
          ],
          "barpolar": [
           {
            "marker": {
             "line": {
              "color": "#E5ECF6",
              "width": 0.5
             },
             "pattern": {
              "fillmode": "overlay",
              "size": 10,
              "solidity": 0.2
             }
            },
            "type": "barpolar"
           }
          ],
          "carpet": [
           {
            "aaxis": {
             "endlinecolor": "#2a3f5f",
             "gridcolor": "white",
             "linecolor": "white",
             "minorgridcolor": "white",
             "startlinecolor": "#2a3f5f"
            },
            "baxis": {
             "endlinecolor": "#2a3f5f",
             "gridcolor": "white",
             "linecolor": "white",
             "minorgridcolor": "white",
             "startlinecolor": "#2a3f5f"
            },
            "type": "carpet"
           }
          ],
          "choropleth": [
           {
            "colorbar": {
             "outlinewidth": 0,
             "ticks": ""
            },
            "type": "choropleth"
           }
          ],
          "contour": [
           {
            "colorbar": {
             "outlinewidth": 0,
             "ticks": ""
            },
            "colorscale": [
             [
              0,
              "#0d0887"
             ],
             [
              0.1111111111111111,
              "#46039f"
             ],
             [
              0.2222222222222222,
              "#7201a8"
             ],
             [
              0.3333333333333333,
              "#9c179e"
             ],
             [
              0.4444444444444444,
              "#bd3786"
             ],
             [
              0.5555555555555556,
              "#d8576b"
             ],
             [
              0.6666666666666666,
              "#ed7953"
             ],
             [
              0.7777777777777778,
              "#fb9f3a"
             ],
             [
              0.8888888888888888,
              "#fdca26"
             ],
             [
              1,
              "#f0f921"
             ]
            ],
            "type": "contour"
           }
          ],
          "contourcarpet": [
           {
            "colorbar": {
             "outlinewidth": 0,
             "ticks": ""
            },
            "type": "contourcarpet"
           }
          ],
          "heatmap": [
           {
            "colorbar": {
             "outlinewidth": 0,
             "ticks": ""
            },
            "colorscale": [
             [
              0,
              "#0d0887"
             ],
             [
              0.1111111111111111,
              "#46039f"
             ],
             [
              0.2222222222222222,
              "#7201a8"
             ],
             [
              0.3333333333333333,
              "#9c179e"
             ],
             [
              0.4444444444444444,
              "#bd3786"
             ],
             [
              0.5555555555555556,
              "#d8576b"
             ],
             [
              0.6666666666666666,
              "#ed7953"
             ],
             [
              0.7777777777777778,
              "#fb9f3a"
             ],
             [
              0.8888888888888888,
              "#fdca26"
             ],
             [
              1,
              "#f0f921"
             ]
            ],
            "type": "heatmap"
           }
          ],
          "heatmapgl": [
           {
            "colorbar": {
             "outlinewidth": 0,
             "ticks": ""
            },
            "colorscale": [
             [
              0,
              "#0d0887"
             ],
             [
              0.1111111111111111,
              "#46039f"
             ],
             [
              0.2222222222222222,
              "#7201a8"
             ],
             [
              0.3333333333333333,
              "#9c179e"
             ],
             [
              0.4444444444444444,
              "#bd3786"
             ],
             [
              0.5555555555555556,
              "#d8576b"
             ],
             [
              0.6666666666666666,
              "#ed7953"
             ],
             [
              0.7777777777777778,
              "#fb9f3a"
             ],
             [
              0.8888888888888888,
              "#fdca26"
             ],
             [
              1,
              "#f0f921"
             ]
            ],
            "type": "heatmapgl"
           }
          ],
          "histogram": [
           {
            "marker": {
             "pattern": {
              "fillmode": "overlay",
              "size": 10,
              "solidity": 0.2
             }
            },
            "type": "histogram"
           }
          ],
          "histogram2d": [
           {
            "colorbar": {
             "outlinewidth": 0,
             "ticks": ""
            },
            "colorscale": [
             [
              0,
              "#0d0887"
             ],
             [
              0.1111111111111111,
              "#46039f"
             ],
             [
              0.2222222222222222,
              "#7201a8"
             ],
             [
              0.3333333333333333,
              "#9c179e"
             ],
             [
              0.4444444444444444,
              "#bd3786"
             ],
             [
              0.5555555555555556,
              "#d8576b"
             ],
             [
              0.6666666666666666,
              "#ed7953"
             ],
             [
              0.7777777777777778,
              "#fb9f3a"
             ],
             [
              0.8888888888888888,
              "#fdca26"
             ],
             [
              1,
              "#f0f921"
             ]
            ],
            "type": "histogram2d"
           }
          ],
          "histogram2dcontour": [
           {
            "colorbar": {
             "outlinewidth": 0,
             "ticks": ""
            },
            "colorscale": [
             [
              0,
              "#0d0887"
             ],
             [
              0.1111111111111111,
              "#46039f"
             ],
             [
              0.2222222222222222,
              "#7201a8"
             ],
             [
              0.3333333333333333,
              "#9c179e"
             ],
             [
              0.4444444444444444,
              "#bd3786"
             ],
             [
              0.5555555555555556,
              "#d8576b"
             ],
             [
              0.6666666666666666,
              "#ed7953"
             ],
             [
              0.7777777777777778,
              "#fb9f3a"
             ],
             [
              0.8888888888888888,
              "#fdca26"
             ],
             [
              1,
              "#f0f921"
             ]
            ],
            "type": "histogram2dcontour"
           }
          ],
          "mesh3d": [
           {
            "colorbar": {
             "outlinewidth": 0,
             "ticks": ""
            },
            "type": "mesh3d"
           }
          ],
          "parcoords": [
           {
            "line": {
             "colorbar": {
              "outlinewidth": 0,
              "ticks": ""
             }
            },
            "type": "parcoords"
           }
          ],
          "pie": [
           {
            "automargin": true,
            "type": "pie"
           }
          ],
          "scatter": [
           {
            "marker": {
             "colorbar": {
              "outlinewidth": 0,
              "ticks": ""
             }
            },
            "type": "scatter"
           }
          ],
          "scatter3d": [
           {
            "line": {
             "colorbar": {
              "outlinewidth": 0,
              "ticks": ""
             }
            },
            "marker": {
             "colorbar": {
              "outlinewidth": 0,
              "ticks": ""
             }
            },
            "type": "scatter3d"
           }
          ],
          "scattercarpet": [
           {
            "marker": {
             "colorbar": {
              "outlinewidth": 0,
              "ticks": ""
             }
            },
            "type": "scattercarpet"
           }
          ],
          "scattergeo": [
           {
            "marker": {
             "colorbar": {
              "outlinewidth": 0,
              "ticks": ""
             }
            },
            "type": "scattergeo"
           }
          ],
          "scattergl": [
           {
            "marker": {
             "colorbar": {
              "outlinewidth": 0,
              "ticks": ""
             }
            },
            "type": "scattergl"
           }
          ],
          "scattermapbox": [
           {
            "marker": {
             "colorbar": {
              "outlinewidth": 0,
              "ticks": ""
             }
            },
            "type": "scattermapbox"
           }
          ],
          "scatterpolar": [
           {
            "marker": {
             "colorbar": {
              "outlinewidth": 0,
              "ticks": ""
             }
            },
            "type": "scatterpolar"
           }
          ],
          "scatterpolargl": [
           {
            "marker": {
             "colorbar": {
              "outlinewidth": 0,
              "ticks": ""
             }
            },
            "type": "scatterpolargl"
           }
          ],
          "scatterternary": [
           {
            "marker": {
             "colorbar": {
              "outlinewidth": 0,
              "ticks": ""
             }
            },
            "type": "scatterternary"
           }
          ],
          "surface": [
           {
            "colorbar": {
             "outlinewidth": 0,
             "ticks": ""
            },
            "colorscale": [
             [
              0,
              "#0d0887"
             ],
             [
              0.1111111111111111,
              "#46039f"
             ],
             [
              0.2222222222222222,
              "#7201a8"
             ],
             [
              0.3333333333333333,
              "#9c179e"
             ],
             [
              0.4444444444444444,
              "#bd3786"
             ],
             [
              0.5555555555555556,
              "#d8576b"
             ],
             [
              0.6666666666666666,
              "#ed7953"
             ],
             [
              0.7777777777777778,
              "#fb9f3a"
             ],
             [
              0.8888888888888888,
              "#fdca26"
             ],
             [
              1,
              "#f0f921"
             ]
            ],
            "type": "surface"
           }
          ],
          "table": [
           {
            "cells": {
             "fill": {
              "color": "#EBF0F8"
             },
             "line": {
              "color": "white"
             }
            },
            "header": {
             "fill": {
              "color": "#C8D4E3"
             },
             "line": {
              "color": "white"
             }
            },
            "type": "table"
           }
          ]
         },
         "layout": {
          "annotationdefaults": {
           "arrowcolor": "#2a3f5f",
           "arrowhead": 0,
           "arrowwidth": 1
          },
          "autotypenumbers": "strict",
          "coloraxis": {
           "colorbar": {
            "outlinewidth": 0,
            "ticks": ""
           }
          },
          "colorscale": {
           "diverging": [
            [
             0,
             "#8e0152"
            ],
            [
             0.1,
             "#c51b7d"
            ],
            [
             0.2,
             "#de77ae"
            ],
            [
             0.3,
             "#f1b6da"
            ],
            [
             0.4,
             "#fde0ef"
            ],
            [
             0.5,
             "#f7f7f7"
            ],
            [
             0.6,
             "#e6f5d0"
            ],
            [
             0.7,
             "#b8e186"
            ],
            [
             0.8,
             "#7fbc41"
            ],
            [
             0.9,
             "#4d9221"
            ],
            [
             1,
             "#276419"
            ]
           ],
           "sequential": [
            [
             0,
             "#0d0887"
            ],
            [
             0.1111111111111111,
             "#46039f"
            ],
            [
             0.2222222222222222,
             "#7201a8"
            ],
            [
             0.3333333333333333,
             "#9c179e"
            ],
            [
             0.4444444444444444,
             "#bd3786"
            ],
            [
             0.5555555555555556,
             "#d8576b"
            ],
            [
             0.6666666666666666,
             "#ed7953"
            ],
            [
             0.7777777777777778,
             "#fb9f3a"
            ],
            [
             0.8888888888888888,
             "#fdca26"
            ],
            [
             1,
             "#f0f921"
            ]
           ],
           "sequentialminus": [
            [
             0,
             "#0d0887"
            ],
            [
             0.1111111111111111,
             "#46039f"
            ],
            [
             0.2222222222222222,
             "#7201a8"
            ],
            [
             0.3333333333333333,
             "#9c179e"
            ],
            [
             0.4444444444444444,
             "#bd3786"
            ],
            [
             0.5555555555555556,
             "#d8576b"
            ],
            [
             0.6666666666666666,
             "#ed7953"
            ],
            [
             0.7777777777777778,
             "#fb9f3a"
            ],
            [
             0.8888888888888888,
             "#fdca26"
            ],
            [
             1,
             "#f0f921"
            ]
           ]
          },
          "colorway": [
           "#636efa",
           "#EF553B",
           "#00cc96",
           "#ab63fa",
           "#FFA15A",
           "#19d3f3",
           "#FF6692",
           "#B6E880",
           "#FF97FF",
           "#FECB52"
          ],
          "font": {
           "color": "#2a3f5f"
          },
          "geo": {
           "bgcolor": "white",
           "lakecolor": "white",
           "landcolor": "#E5ECF6",
           "showlakes": true,
           "showland": true,
           "subunitcolor": "white"
          },
          "hoverlabel": {
           "align": "left"
          },
          "hovermode": "closest",
          "mapbox": {
           "style": "light"
          },
          "paper_bgcolor": "white",
          "plot_bgcolor": "#E5ECF6",
          "polar": {
           "angularaxis": {
            "gridcolor": "white",
            "linecolor": "white",
            "ticks": ""
           },
           "bgcolor": "#E5ECF6",
           "radialaxis": {
            "gridcolor": "white",
            "linecolor": "white",
            "ticks": ""
           }
          },
          "scene": {
           "xaxis": {
            "backgroundcolor": "#E5ECF6",
            "gridcolor": "white",
            "gridwidth": 2,
            "linecolor": "white",
            "showbackground": true,
            "ticks": "",
            "zerolinecolor": "white"
           },
           "yaxis": {
            "backgroundcolor": "#E5ECF6",
            "gridcolor": "white",
            "gridwidth": 2,
            "linecolor": "white",
            "showbackground": true,
            "ticks": "",
            "zerolinecolor": "white"
           },
           "zaxis": {
            "backgroundcolor": "#E5ECF6",
            "gridcolor": "white",
            "gridwidth": 2,
            "linecolor": "white",
            "showbackground": true,
            "ticks": "",
            "zerolinecolor": "white"
           }
          },
          "shapedefaults": {
           "line": {
            "color": "#2a3f5f"
           }
          },
          "ternary": {
           "aaxis": {
            "gridcolor": "white",
            "linecolor": "white",
            "ticks": ""
           },
           "baxis": {
            "gridcolor": "white",
            "linecolor": "white",
            "ticks": ""
           },
           "bgcolor": "#E5ECF6",
           "caxis": {
            "gridcolor": "white",
            "linecolor": "white",
            "ticks": ""
           }
          },
          "title": {
           "x": 0.05
          },
          "xaxis": {
           "automargin": true,
           "gridcolor": "white",
           "linecolor": "white",
           "ticks": "",
           "title": {
            "standoff": 15
           },
           "zerolinecolor": "white",
           "zerolinewidth": 2
          },
          "yaxis": {
           "automargin": true,
           "gridcolor": "white",
           "linecolor": "white",
           "ticks": "",
           "title": {
            "standoff": 15
           },
           "zerolinecolor": "white",
           "zerolinewidth": 2
          }
         }
        },
        "title": {
         "text": "Tyrese Haliburton"
        },
        "width": 1100,
        "xaxis": {
         "anchor": "y",
         "autorange": true,
         "domain": [
          0,
          0.2125
         ],
         "range": [
          -0.5,
          14.5
         ],
         "type": "category"
        },
        "xaxis2": {
         "anchor": "y2",
         "autorange": true,
         "domain": [
          0.2625,
          0.475
         ],
         "range": [
          -0.5,
          14.5
         ],
         "type": "category"
        },
        "xaxis3": {
         "anchor": "y3",
         "autorange": true,
         "domain": [
          0.525,
          0.7375
         ],
         "range": [
          -0.5,
          14.5
         ],
         "type": "category"
        },
        "xaxis4": {
         "anchor": "y4",
         "autorange": true,
         "domain": [
          0.7875,
          1
         ],
         "range": [
          -0.5,
          14.5
         ],
         "type": "category"
        },
        "xaxis5": {
         "anchor": "y5",
         "autorange": true,
         "domain": [
          0,
          0.2125
         ],
         "range": [
          -0.5,
          14.5
         ],
         "type": "category"
        },
        "xaxis6": {
         "anchor": "y6",
         "autorange": true,
         "domain": [
          0.2625,
          0.475
         ],
         "range": [
          -0.5,
          14.5
         ],
         "type": "category"
        },
        "xaxis7": {
         "anchor": "y7",
         "autorange": true,
         "domain": [
          0.525,
          0.7375
         ],
         "range": [
          -0.5,
          14.5
         ],
         "type": "category"
        },
        "xaxis8": {
         "anchor": "y8",
         "autorange": true,
         "domain": [
          0.7875,
          1
         ],
         "range": [
          -0.5,
          14.5
         ],
         "type": "category"
        },
        "yaxis": {
         "anchor": "x",
         "autorange": true,
         "domain": [
          0.625,
          1
         ],
         "range": [
          0,
          45.26315789473684
         ],
         "type": "linear"
        },
        "yaxis2": {
         "anchor": "x2",
         "autorange": true,
         "domain": [
          0.625,
          1
         ],
         "range": [
          0,
          14.736842105263158
         ],
         "type": "linear"
        },
        "yaxis3": {
         "anchor": "x3",
         "autorange": true,
         "domain": [
          0.625,
          1
         ],
         "range": [
          0,
          7.368421052631579
         ],
         "type": "linear"
        },
        "yaxis4": {
         "anchor": "x4",
         "autorange": true,
         "domain": [
          0.625,
          1
         ],
         "range": [
          0,
          54.73684210526316
         ],
         "type": "linear"
        },
        "yaxis5": {
         "anchor": "x5",
         "autorange": true,
         "domain": [
          0,
          0.375
         ],
         "range": [
          0,
          20
         ],
         "type": "linear"
        },
        "yaxis6": {
         "anchor": "x6",
         "autorange": true,
         "domain": [
          0,
          0.375
         ],
         "range": [
          0,
          52.631578947368425
         ],
         "type": "linear"
        },
        "yaxis7": {
         "anchor": "x7",
         "autorange": true,
         "domain": [
          0,
          0.375
         ],
         "range": [
          0,
          47.36842105263158
         ],
         "type": "linear"
        },
        "yaxis8": {
         "anchor": "x8",
         "autorange": true,
         "domain": [
          0,
          0.375
         ],
         "range": [
          0,
          10.526315789473685
         ],
         "type": "linear"
        }
       }
      },
      "image/png": "[encoded data removed]",
      "text/html": [
       "<div>                            <div id=\"1bbae293-c8af-4b17-88db-7584f7f7be5e\" class=\"plotly-graph-div\" style=\"height:750px; width:1100px;\"></div>            <script type=\"text/javascript\">                require([\"plotly\"], function(Plotly) {                    window.PLOTLYENV=window.PLOTLYENV || {};                                    if (document.getElementById(\"1bbae293-c8af-4b17-88db-7584f7f7be5e\")) {                    Plotly.newPlot(                        \"1bbae293-c8af-4b17-88db-7584f7f7be5e\",                        [{\"name\":\"Points\",\"text\":[\"IND vs. CHA\",\"IND vs. POR\",\"IND @ PHI\",\"IND vs. TOR\",\"IND vs. LAC\",\"IND vs. CLE\",\"IND vs. ATL\",\"IND @ NOP\",\"IND @ MIA\",\"IND @ BOS\",\"IND vs. NYK\",\"IND @ CLE\",\"IND vs. GSW\",\"IND vs. MIA\",\"IND vs. BKN\"],\"x\":[\"JAN 08, 2023\",\"JAN 06, 2023\",\"JAN 04, 2023\",\"JAN 02, 2023\",\"DEC 31, 2022\",\"DEC 29, 2022\",\"DEC 27, 2022\",\"DEC 26, 2022\",\"DEC 23, 2022\",\"DEC 21, 2022\",\"DEC 18, 2022\",\"DEC 16, 2022\",\"DEC 14, 2022\",\"DEC 12, 2022\",\"DEC 10, 2022\"],\"y\":[16,15,16,16,24,29,23,12,43,33,15,17,29,1,35],\"type\":\"bar\",\"xaxis\":\"x\",\"yaxis\":\"y\"},{\"name\":\"Assists\",\"text\":[\"IND vs. CHA\",\"IND vs. POR\",\"IND @ PHI\",\"IND vs. TOR\",\"IND vs. LAC\",\"IND vs. CLE\",\"IND vs. ATL\",\"IND @ NOP\",\"IND @ MIA\",\"IND @ BOS\",\"IND vs. NYK\",\"IND @ CLE\",\"IND vs. GSW\",\"IND vs. MIA\",\"IND vs. BKN\"],\"x\":[\"JAN 08, 2023\",\"JAN 06, 2023\",\"JAN 04, 2023\",\"JAN 02, 2023\",\"DEC 31, 2022\",\"DEC 29, 2022\",\"DEC 27, 2022\",\"DEC 26, 2022\",\"DEC 23, 2022\",\"DEC 21, 2022\",\"DEC 18, 2022\",\"DEC 16, 2022\",\"DEC 14, 2022\",\"DEC 12, 2022\",\"DEC 10, 2022\"],\"y\":[13,12,12,8,10,9,7,6,7,8,10,14,6,6,9],\"type\":\"bar\",\"xaxis\":\"x2\",\"yaxis\":\"y2\"},{\"name\":\"Rebounds\",\"text\":[\"IND vs. CHA\",\"IND vs. POR\",\"IND @ PHI\",\"IND vs. TOR\",\"IND vs. LAC\",\"IND vs. CLE\",\"IND vs. ATL\",\"IND @ NOP\",\"IND @ MIA\",\"IND @ BOS\",\"IND vs. NYK\",\"IND @ CLE\",\"IND vs. GSW\",\"IND vs. MIA\",\"IND vs. BKN\"],\"x\":[\"JAN 08, 2023\",\"JAN 06, 2023\",\"JAN 04, 2023\",\"JAN 02, 2023\",\"DEC 31, 2022\",\"DEC 29, 2022\",\"DEC 27, 2022\",\"DEC 26, 2022\",\"DEC 23, 2022\",\"DEC 21, 2022\",\"DEC 18, 2022\",\"DEC 16, 2022\",\"DEC 14, 2022\",\"DEC 12, 2022\",\"DEC 10, 2022\"],\"y\":[5,4,7,6,7,2,3,1,2,3,1,0,4,3,1],\"type\":\"bar\",\"xaxis\":\"x3\",\"yaxis\":\"y3\"},{\"name\":\"P+A\",\"text\":[\"IND vs. CHA\",\"IND vs. POR\",\"IND @ PHI\",\"IND vs. TOR\",\"IND vs. LAC\",\"IND vs. CLE\",\"IND vs. ATL\",\"IND @ NOP\",\"IND @ MIA\",\"IND @ BOS\",\"IND vs. NYK\",\"IND @ CLE\",\"IND vs. GSW\",\"IND vs. MIA\",\"IND vs. BKN\"],\"x\":[\"JAN 08, 2023\",\"JAN 06, 2023\",\"JAN 04, 2023\",\"JAN 02, 2023\",\"DEC 31, 2022\",\"DEC 29, 2022\",\"DEC 27, 2022\",\"DEC 26, 2022\",\"DEC 23, 2022\",\"DEC 21, 2022\",\"DEC 18, 2022\",\"DEC 16, 2022\",\"DEC 14, 2022\",\"DEC 12, 2022\",\"DEC 10, 2022\"],\"y\":[29,27,28,24,34,38,30,18,50,41,25,31,35,7,44],\"type\":\"bar\",\"xaxis\":\"x6\",\"yaxis\":\"y6\"},{\"name\":\"P+R\",\"text\":[\"IND vs. CHA\",\"IND vs. POR\",\"IND @ PHI\",\"IND vs. TOR\",\"IND vs. LAC\",\"IND vs. CLE\",\"IND vs. ATL\",\"IND @ NOP\",\"IND @ MIA\",\"IND @ BOS\",\"IND vs. NYK\",\"IND @ CLE\",\"IND vs. GSW\",\"IND vs. MIA\",\"IND vs. BKN\"],\"x\":[\"JAN 08, 2023\",\"JAN 06, 2023\",\"JAN 04, 2023\",\"JAN 02, 2023\",\"DEC 31, 2022\",\"DEC 29, 2022\",\"DEC 27, 2022\",\"DEC 26, 2022\",\"DEC 23, 2022\",\"DEC 21, 2022\",\"DEC 18, 2022\",\"DEC 16, 2022\",\"DEC 14, 2022\",\"DEC 12, 2022\",\"DEC 10, 2022\"],\"y\":[21,19,23,22,31,31,26,13,45,36,16,17,33,4,36],\"type\":\"bar\",\"xaxis\":\"x7\",\"yaxis\":\"y7\"},{\"name\":\"R+A\",\"text\":[\"IND vs. CHA\",\"IND vs. POR\",\"IND @ PHI\",\"IND vs. TOR\",\"IND vs. LAC\",\"IND vs. CLE\",\"IND vs. ATL\",\"IND @ NOP\",\"IND @ MIA\",\"IND @ BOS\",\"IND vs. NYK\",\"IND @ CLE\",\"IND vs. GSW\",\"IND vs. MIA\",\"IND vs. BKN\"],\"x\":[\"JAN 08, 2023\",\"JAN 06, 2023\",\"JAN 04, 2023\",\"JAN 02, 2023\",\"DEC 31, 2022\",\"DEC 29, 2022\",\"DEC 27, 2022\",\"DEC 26, 2022\",\"DEC 23, 2022\",\"DEC 21, 2022\",\"DEC 18, 2022\",\"DEC 16, 2022\",\"DEC 14, 2022\",\"DEC 12, 2022\",\"DEC 10, 2022\"],\"y\":[18,16,19,14,17,11,10,7,9,11,11,14,10,9,10],\"type\":\"bar\",\"xaxis\":\"x5\",\"yaxis\":\"y5\"},{\"name\":\"P+R+A\",\"text\":[\"IND vs. CHA\",\"IND vs. POR\",\"IND @ PHI\",\"IND vs. TOR\",\"IND vs. LAC\",\"IND vs. CLE\",\"IND vs. ATL\",\"IND @ NOP\",\"IND @ MIA\",\"IND @ BOS\",\"IND vs. NYK\",\"IND @ CLE\",\"IND vs. GSW\",\"IND vs. MIA\",\"IND vs. BKN\"],\"x\":[\"JAN 08, 2023\",\"JAN 06, 2023\",\"JAN 04, 2023\",\"JAN 02, 2023\",\"DEC 31, 2022\",\"DEC 29, 2022\",\"DEC 27, 2022\",\"DEC 26, 2022\",\"DEC 23, 2022\",\"DEC 21, 2022\",\"DEC 18, 2022\",\"DEC 16, 2022\",\"DEC 14, 2022\",\"DEC 12, 2022\",\"DEC 10, 2022\"],\"y\":[34,31,35,30,41,40,33,19,52,44,26,31,39,10,45],\"type\":\"bar\",\"xaxis\":\"x4\",\"yaxis\":\"y4\"},{\"name\":\"3's\",\"text\":[\"IND vs. CHA\",\"IND vs. POR\",\"IND @ PHI\",\"IND vs. TOR\",\"IND vs. LAC\",\"IND vs. CLE\",\"IND vs. ATL\",\"IND @ NOP\",\"IND @ MIA\",\"IND @ BOS\",\"IND vs. NYK\",\"IND @ CLE\",\"IND vs. GSW\",\"IND vs. MIA\",\"IND vs. BKN\"],\"x\":[\"JAN 08, 2023\",\"JAN 06, 2023\",\"JAN 04, 2023\",\"JAN 02, 2023\",\"DEC 31, 2022\",\"DEC 29, 2022\",\"DEC 27, 2022\",\"DEC 26, 2022\",\"DEC 23, 2022\",\"DEC 21, 2022\",\"DEC 18, 2022\",\"DEC 16, 2022\",\"DEC 14, 2022\",\"DEC 12, 2022\",\"DEC 10, 2022\"],\"y\":[2,3,2,2,2,6,3,1,10,6,2,0,5,0,7],\"type\":\"bar\",\"xaxis\":\"x8\",\"yaxis\":\"y8\"}],                        {\"template\":{\"data\":{\"bar\":[{\"error_x\":{\"color\":\"#2a3f5f\"},\"error_y\":{\"color\":\"#2a3f5f\"},\"marker\":{\"line\":{\"color\":\"#E5ECF6\",\"width\":0.5},\"pattern\":{\"fillmode\":\"overlay\",\"size\":10,\"solidity\":0.2}},\"type\":\"bar\"}],\"barpolar\":[{\"marker\":{\"line\":{\"color\":\"#E5ECF6\",\"width\":0.5},\"pattern\":{\"fillmode\":\"overlay\",\"size\":10,\"solidity\":0.2}},\"type\":\"barpolar\"}],\"carpet\":[{\"aaxis\":{\"endlinecolor\":\"#2a3f5f\",\"gridcolor\":\"white\",\"linecolor\":\"white\",\"minorgridcolor\":\"white\",\"startlinecolor\":\"#2a3f5f\"},\"baxis\":{\"endlinecolor\":\"#2a3f5f\",\"gridcolor\":\"white\",\"linecolor\":\"white\",\"minorgridcolor\":\"white\",\"startlinecolor\":\"#2a3f5f\"},\"type\":\"carpet\"}],\"choropleth\":[{\"colorbar\":{\"outlinewidth\":0,\"ticks\":\"\"},\"type\":\"choropleth\"}],\"contour\":[{\"colorbar\":{\"outlinewidth\":0,\"ticks\":\"\"},\"colorscale\":[[0.0,\"#0d0887\"],[0.1111111111111111,\"#46039f\"],[0.2222222222222222,\"#7201a8\"],[0.3333333333333333,\"#9c179e\"],[0.4444444444444444,\"#bd3786\"],[0.5555555555555556,\"#d8576b\"],[0.6666666666666666,\"#ed7953\"],[0.7777777777777778,\"#fb9f3a\"],[0.8888888888888888,\"#fdca26\"],[1.0,\"#f0f921\"]],\"type\":\"contour\"}],\"contourcarpet\":[{\"colorbar\":{\"outlinewidth\":0,\"ticks\":\"\"},\"type\":\"contourcarpet\"}],\"heatmap\":[{\"colorbar\":{\"outlinewidth\":0,\"ticks\":\"\"},\"colorscale\":[[0.0,\"#0d0887\"],[0.1111111111111111,\"#46039f\"],[0.2222222222222222,\"#7201a8\"],[0.3333333333333333,\"#9c179e\"],[0.4444444444444444,\"#bd3786\"],[0.5555555555555556,\"#d8576b\"],[0.6666666666666666,\"#ed7953\"],[0.7777777777777778,\"#fb9f3a\"],[0.8888888888888888,\"#fdca26\"],[1.0,\"#f0f921\"]],\"type\":\"heatmap\"}],\"heatmapgl\":[{\"colorbar\":{\"outlinewidth\":0,\"ticks\":\"\"},\"colorscale\":[[0.0,\"#0d0887\"],[0.1111111111111111,\"#46039f\"],[0.2222222222222222,\"#7201a8\"],[0.3333333333333333,\"#9c179e\"],[0.4444444444444444,\"#bd3786\"],[0.5555555555555556,\"#d8576b\"],[0.6666666666666666,\"#ed7953\"],[0.7777777777777778,\"#fb9f3a\"],[0.8888888888888888,\"#fdca26\"],[1.0,\"#f0f921\"]],\"type\":\"heatmapgl\"}],\"histogram\":[{\"marker\":{\"pattern\":{\"fillmode\":\"overlay\",\"size\":10,\"solidity\":0.2}},\"type\":\"histogram\"}],\"histogram2d\":[{\"colorbar\":{\"outlinewidth\":0,\"ticks\":\"\"},\"colorscale\":[[0.0,\"#0d0887\"],[0.1111111111111111,\"#46039f\"],[0.2222222222222222,\"#7201a8\"],[0.3333333333333333,\"#9c179e\"],[0.4444444444444444,\"#bd3786\"],[0.5555555555555556,\"#d8576b\"],[0.6666666666666666,\"#ed7953\"],[0.7777777777777778,\"#fb9f3a\"],[0.8888888888888888,\"#fdca26\"],[1.0,\"#f0f921\"]],\"type\":\"histogram2d\"}],\"histogram2dcontour\":[{\"colorbar\":{\"outlinewidth\":0,\"ticks\":\"\"},\"colorscale\":[[0.0,\"#0d0887\"],[0.1111111111111111,\"#46039f\"],[0.2222222222222222,\"#7201a8\"],[0.3333333333333333,\"#9c179e\"],[0.4444444444444444,\"#bd3786\"],[0.5555555555555556,\"#d8576b\"],[0.6666666666666666,\"#ed7953\"],[0.7777777777777778,\"#fb9f3a\"],[0.8888888888888888,\"#fdca26\"],[1.0,\"#f0f921\"]],\"type\":\"histogram2dcontour\"}],\"mesh3d\":[{\"colorbar\":{\"outlinewidth\":0,\"ticks\":\"\"},\"type\":\"mesh3d\"}],\"parcoords\":[{\"line\":{\"colorbar\":{\"outlinewidth\":0,\"ticks\":\"\"}},\"type\":\"parcoords\"}],\"pie\":[{\"automargin\":true,\"type\":\"pie\"}],\"scatter\":[{\"marker\":{\"colorbar\":{\"outlinewidth\":0,\"ticks\":\"\"}},\"type\":\"scatter\"}],\"scatter3d\":[{\"line\":{\"colorbar\":{\"outlinewidth\":0,\"ticks\":\"\"}},\"marker\":{\"colorbar\":{\"outlinewidth\":0,\"ticks\":\"\"}},\"type\":\"scatter3d\"}],\"scattercarpet\":[{\"marker\":{\"colorbar\":{\"outlinewidth\":0,\"ticks\":\"\"}},\"type\":\"scattercarpet\"}],\"scattergeo\":[{\"marker\":{\"colorbar\":{\"outlinewidth\":0,\"ticks\":\"\"}},\"type\":\"scattergeo\"}],\"scattergl\":[{\"marker\":{\"colorbar\":{\"outlinewidth\":0,\"ticks\":\"\"}},\"type\":\"scattergl\"}],\"scattermapbox\":[{\"marker\":{\"colorbar\":{\"outlinewidth\":0,\"ticks\":\"\"}},\"type\":\"scattermapbox\"}],\"scatterpolar\":[{\"marker\":{\"colorbar\":{\"outlinewidth\":0,\"ticks\":\"\"}},\"type\":\"scatterpolar\"}],\"scatterpolargl\":[{\"marker\":{\"colorbar\":{\"outlinewidth\":0,\"ticks\":\"\"}},\"type\":\"scatterpolargl\"}],\"scatterternary\":[{\"marker\":{\"colorbar\":{\"outlinewidth\":0,\"ticks\":\"\"}},\"type\":\"scatterternary\"}],\"surface\":[{\"colorbar\":{\"outlinewidth\":0,\"ticks\":\"\"},\"colorscale\":[[0.0,\"#0d0887\"],[0.1111111111111111,\"#46039f\"],[0.2222222222222222,\"#7201a8\"],[0.3333333333333333,\"#9c179e\"],[0.4444444444444444,\"#bd3786\"],[0.5555555555555556,\"#d8576b\"],[0.6666666666666666,\"#ed7953\"],[0.7777777777777778,\"#fb9f3a\"],[0.8888888888888888,\"#fdca26\"],[1.0,\"#f0f921\"]],\"type\":\"surface\"}],\"table\":[{\"cells\":{\"fill\":{\"color\":\"#EBF0F8\"},\"line\":{\"color\":\"white\"}},\"header\":{\"fill\":{\"color\":\"#C8D4E3\"},\"line\":{\"color\":\"white\"}},\"type\":\"table\"}]},\"layout\":{\"annotationdefaults\":{\"arrowcolor\":\"#2a3f5f\",\"arrowhead\":0,\"arrowwidth\":1},\"autotypenumbers\":\"strict\",\"coloraxis\":{\"colorbar\":{\"outlinewidth\":0,\"ticks\":\"\"}},\"colorscale\":{\"diverging\":[[0,\"#8e0152\"],[0.1,\"#c51b7d\"],[0.2,\"#de77ae\"],[0.3,\"#f1b6da\"],[0.4,\"#fde0ef\"],[0.5,\"#f7f7f7\"],[0.6,\"#e6f5d0\"],[0.7,\"#b8e186\"],[0.8,\"#7fbc41\"],[0.9,\"#4d9221\"],[1,\"#276419\"]],\"sequential\":[[0.0,\"#0d0887\"],[0.1111111111111111,\"#46039f\"],[0.2222222222222222,\"#7201a8\"],[0.3333333333333333,\"#9c179e\"],[0.4444444444444444,\"#bd3786\"],[0.5555555555555556,\"#d8576b\"],[0.6666666666666666,\"#ed7953\"],[0.7777777777777778,\"#fb9f3a\"],[0.8888888888888888,\"#fdca26\"],[1.0,\"#f0f921\"]],\"sequentialminus\":[[0.0,\"#0d0887\"],[0.1111111111111111,\"#46039f\"],[0.2222222222222222,\"#7201a8\"],[0.3333333333333333,\"#9c179e\"],[0.4444444444444444,\"#bd3786\"],[0.5555555555555556,\"#d8576b\"],[0.6666666666666666,\"#ed7953\"],[0.7777777777777778,\"#fb9f3a\"],[0.8888888888888888,\"#fdca26\"],[1.0,\"#f0f921\"]]},\"colorway\":[\"#636efa\",\"#EF553B\",\"#00cc96\",\"#ab63fa\",\"#FFA15A\",\"#19d3f3\",\"#FF6692\",\"#B6E880\",\"#FF97FF\",\"#FECB52\"],\"font\":{\"color\":\"#2a3f5f\"},\"geo\":{\"bgcolor\":\"white\",\"lakecolor\":\"white\",\"landcolor\":\"#E5ECF6\",\"showlakes\":true,\"showland\":true,\"subunitcolor\":\"white\"},\"hoverlabel\":{\"align\":\"left\"},\"hovermode\":\"closest\",\"mapbox\":{\"style\":\"light\"},\"paper_bgcolor\":\"white\",\"plot_bgcolor\":\"#E5ECF6\",\"polar\":{\"angularaxis\":{\"gridcolor\":\"white\",\"linecolor\":\"white\",\"ticks\":\"\"},\"bgcolor\":\"#E5ECF6\",\"radialaxis\":{\"gridcolor\":\"white\",\"linecolor\":\"white\",\"ticks\":\"\"}},\"scene\":{\"xaxis\":{\"backgroundcolor\":\"#E5ECF6\",\"gridcolor\":\"white\",\"gridwidth\":2,\"linecolor\":\"white\",\"showbackground\":true,\"ticks\":\"\",\"zerolinecolor\":\"white\"},\"yaxis\":{\"backgroundcolor\":\"#E5ECF6\",\"gridcolor\":\"white\",\"gridwidth\":2,\"linecolor\":\"white\",\"showbackground\":true,\"ticks\":\"\",\"zerolinecolor\":\"white\"},\"zaxis\":{\"backgroundcolor\":\"#E5ECF6\",\"gridcolor\":\"white\",\"gridwidth\":2,\"linecolor\":\"white\",\"showbackground\":true,\"ticks\":\"\",\"zerolinecolor\":\"white\"}},\"shapedefaults\":{\"line\":{\"color\":\"#2a3f5f\"}},\"ternary\":{\"aaxis\":{\"gridcolor\":\"white\",\"linecolor\":\"white\",\"ticks\":\"\"},\"baxis\":{\"gridcolor\":\"white\",\"linecolor\":\"white\",\"ticks\":\"\"},\"bgcolor\":\"#E5ECF6\",\"caxis\":{\"gridcolor\":\"white\",\"linecolor\":\"white\",\"ticks\":\"\"}},\"title\":{\"x\":0.05},\"xaxis\":{\"automargin\":true,\"gridcolor\":\"white\",\"linecolor\":\"white\",\"ticks\":\"\",\"title\":{\"standoff\":15},\"zerolinecolor\":\"white\",\"zerolinewidth\":2},\"yaxis\":{\"automargin\":true,\"gridcolor\":\"white\",\"linecolor\":\"white\",\"ticks\":\"\",\"title\":{\"standoff\":15},\"zerolinecolor\":\"white\",\"zerolinewidth\":2}}},\"xaxis\":{\"anchor\":\"y\",\"domain\":[0.0,0.2125]},\"yaxis\":{\"anchor\":\"x\",\"domain\":[0.625,1.0]},\"xaxis2\":{\"anchor\":\"y2\",\"domain\":[0.2625,0.475]},\"yaxis2\":{\"anchor\":\"x2\",\"domain\":[0.625,1.0]},\"xaxis3\":{\"anchor\":\"y3\",\"domain\":[0.525,0.7375]},\"yaxis3\":{\"anchor\":\"x3\",\"domain\":[0.625,1.0]},\"xaxis4\":{\"anchor\":\"y4\",\"domain\":[0.7875,1.0]},\"yaxis4\":{\"anchor\":\"x4\",\"domain\":[0.625,1.0]},\"xaxis5\":{\"anchor\":\"y5\",\"domain\":[0.0,0.2125]},\"yaxis5\":{\"anchor\":\"x5\",\"domain\":[0.0,0.375]},\"xaxis6\":{\"anchor\":\"y6\",\"domain\":[0.2625,0.475]},\"yaxis6\":{\"anchor\":\"x6\",\"domain\":[0.0,0.375]},\"xaxis7\":{\"anchor\":\"y7\",\"domain\":[0.525,0.7375]},\"yaxis7\":{\"anchor\":\"x7\",\"domain\":[0.0,0.375]},\"xaxis8\":{\"anchor\":\"y8\",\"domain\":[0.7875,1.0]},\"yaxis8\":{\"anchor\":\"x8\",\"domain\":[0.0,0.375]},\"annotations\":[{\"font\":{\"size\":16},\"showarrow\":false,\"text\":\"Points\",\"x\":0.10625,\"xanchor\":\"center\",\"xref\":\"paper\",\"y\":1.0,\"yanchor\":\"bottom\",\"yref\":\"paper\"},{\"font\":{\"size\":16},\"showarrow\":false,\"text\":\"Assists\",\"x\":0.36875,\"xanchor\":\"center\",\"xref\":\"paper\",\"y\":1.0,\"yanchor\":\"bottom\",\"yref\":\"paper\"},{\"font\":{\"size\":16},\"showarrow\":false,\"text\":\"Rebounds\",\"x\":0.6312500000000001,\"xanchor\":\"center\",\"xref\":\"paper\",\"y\":1.0,\"yanchor\":\"bottom\",\"yref\":\"paper\"},{\"font\":{\"size\":16},\"showarrow\":false,\"text\":\"P+R+A\",\"x\":0.89375,\"xanchor\":\"center\",\"xref\":\"paper\",\"y\":1.0,\"yanchor\":\"bottom\",\"yref\":\"paper\"},{\"font\":{\"size\":16},\"showarrow\":false,\"text\":\"R+A\",\"x\":0.10625,\"xanchor\":\"center\",\"xref\":\"paper\",\"y\":0.375,\"yanchor\":\"bottom\",\"yref\":\"paper\"},{\"font\":{\"size\":16},\"showarrow\":false,\"text\":\"P+A\",\"x\":0.36875,\"xanchor\":\"center\",\"xref\":\"paper\",\"y\":0.375,\"yanchor\":\"bottom\",\"yref\":\"paper\"},{\"font\":{\"size\":16},\"showarrow\":false,\"text\":\"P+R\",\"x\":0.6312500000000001,\"xanchor\":\"center\",\"xref\":\"paper\",\"y\":0.375,\"yanchor\":\"bottom\",\"yref\":\"paper\"},{\"font\":{\"size\":16},\"showarrow\":false,\"text\":\"3's\",\"x\":0.89375,\"xanchor\":\"center\",\"xref\":\"paper\",\"y\":0.375,\"yanchor\":\"bottom\",\"yref\":\"paper\"},{\"showarrow\":false,\"text\":\"Median\",\"x\":1,\"xanchor\":\"right\",\"xref\":\"x domain\",\"y\":17.0,\"yanchor\":\"bottom\",\"yref\":\"y\"},{\"showarrow\":false,\"text\":\"Mean\",\"x\":0,\"xanchor\":\"right\",\"xref\":\"x domain\",\"y\":21.6,\"yanchor\":\"middle\",\"yref\":\"y\"},{\"showarrow\":false,\"text\":\"Median\",\"x\":1,\"xanchor\":\"right\",\"xref\":\"x2 domain\",\"y\":9.0,\"yanchor\":\"bottom\",\"yref\":\"y2\"},{\"showarrow\":false,\"text\":\"Mean\",\"x\":0,\"xanchor\":\"right\",\"xref\":\"x2 domain\",\"y\":9.133333333333333,\"yanchor\":\"middle\",\"yref\":\"y2\"},{\"showarrow\":false,\"text\":\"Median\",\"x\":1,\"xanchor\":\"right\",\"xref\":\"x3 domain\",\"y\":3.0,\"yanchor\":\"bottom\",\"yref\":\"y3\"},{\"showarrow\":false,\"text\":\"Mean\",\"x\":0,\"xanchor\":\"right\",\"xref\":\"x3 domain\",\"y\":3.2666666666666666,\"yanchor\":\"middle\",\"yref\":\"y3\"},{\"showarrow\":false,\"text\":\"Median\",\"x\":1,\"xanchor\":\"right\",\"xref\":\"x6 domain\",\"y\":30.0,\"yanchor\":\"bottom\",\"yref\":\"y6\"},{\"showarrow\":false,\"text\":\"Mean\",\"x\":0,\"xanchor\":\"right\",\"xref\":\"x6 domain\",\"y\":30.733333333333334,\"yanchor\":\"middle\",\"yref\":\"y6\"},{\"showarrow\":false,\"text\":\"Median\",\"x\":1,\"xanchor\":\"right\",\"xref\":\"x7 domain\",\"y\":23.0,\"yanchor\":\"bottom\",\"yref\":\"y7\"},{\"showarrow\":false,\"text\":\"Mean\",\"x\":0,\"xanchor\":\"right\",\"xref\":\"x7 domain\",\"y\":24.866666666666667,\"yanchor\":\"middle\",\"yref\":\"y7\"},{\"showarrow\":false,\"text\":\"Median\",\"x\":1,\"xanchor\":\"right\",\"xref\":\"x5 domain\",\"y\":11.0,\"yanchor\":\"bottom\",\"yref\":\"y5\"},{\"showarrow\":false,\"text\":\"Mean\",\"x\":0,\"xanchor\":\"right\",\"xref\":\"x5 domain\",\"y\":12.4,\"yanchor\":\"middle\",\"yref\":\"y5\"},{\"showarrow\":false,\"text\":\"Median\",\"x\":1,\"xanchor\":\"right\",\"xref\":\"x4 domain\",\"y\":34.0,\"yanchor\":\"bottom\",\"yref\":\"y4\"},{\"showarrow\":false,\"text\":\"Mean\",\"x\":0,\"xanchor\":\"right\",\"xref\":\"x4 domain\",\"y\":34.0,\"yanchor\":\"middle\",\"yref\":\"y4\"},{\"showarrow\":false,\"text\":\"Median\",\"x\":1,\"xanchor\":\"right\",\"xref\":\"x8 domain\",\"y\":2.0,\"yanchor\":\"bottom\",\"yref\":\"y8\"},{\"showarrow\":false,\"text\":\"Mean\",\"x\":0,\"xanchor\":\"right\",\"xref\":\"x8 domain\",\"y\":3.4,\"yanchor\":\"middle\",\"yref\":\"y8\"}],\"shapes\":[{\"type\":\"line\",\"x0\":0,\"x1\":1,\"xref\":\"x domain\",\"y0\":17.0,\"y1\":17.0,\"yref\":\"y\"},{\"line\":{\"color\":\"red\"},\"type\":\"line\",\"x0\":0,\"x1\":1,\"xref\":\"x domain\",\"y0\":21.6,\"y1\":21.6,\"yref\":\"y\"},{\"type\":\"line\",\"x0\":0,\"x1\":1,\"xref\":\"x2 domain\",\"y0\":9.0,\"y1\":9.0,\"yref\":\"y2\"},{\"line\":{\"color\":\"red\"},\"type\":\"line\",\"x0\":0,\"x1\":1,\"xref\":\"x2 domain\",\"y0\":9.133333333333333,\"y1\":9.133333333333333,\"yref\":\"y2\"},{\"type\":\"line\",\"x0\":0,\"x1\":1,\"xref\":\"x3 domain\",\"y0\":3.0,\"y1\":3.0,\"yref\":\"y3\"},{\"line\":{\"color\":\"red\"},\"type\":\"line\",\"x0\":0,\"x1\":1,\"xref\":\"x3 domain\",\"y0\":3.2666666666666666,\"y1\":3.2666666666666666,\"yref\":\"y3\"},{\"type\":\"line\",\"x0\":0,\"x1\":1,\"xref\":\"x6 domain\",\"y0\":30.0,\"y1\":30.0,\"yref\":\"y6\"},{\"line\":{\"color\":\"red\"},\"type\":\"line\",\"x0\":0,\"x1\":1,\"xref\":\"x6 domain\",\"y0\":30.733333333333334,\"y1\":30.733333333333334,\"yref\":\"y6\"},{\"type\":\"line\",\"x0\":0,\"x1\":1,\"xref\":\"x7 domain\",\"y0\":23.0,\"y1\":23.0,\"yref\":\"y7\"},{\"line\":{\"color\":\"red\"},\"type\":\"line\",\"x0\":0,\"x1\":1,\"xref\":\"x7 domain\",\"y0\":24.866666666666667,\"y1\":24.866666666666667,\"yref\":\"y7\"},{\"type\":\"line\",\"x0\":0,\"x1\":1,\"xref\":\"x5 domain\",\"y0\":11.0,\"y1\":11.0,\"yref\":\"y5\"},{\"line\":{\"color\":\"red\"},\"type\":\"line\",\"x0\":0,\"x1\":1,\"xref\":\"x5 domain\",\"y0\":12.4,\"y1\":12.4,\"yref\":\"y5\"},{\"type\":\"line\",\"x0\":0,\"x1\":1,\"xref\":\"x4 domain\",\"y0\":34.0,\"y1\":34.0,\"yref\":\"y4\"},{\"line\":{\"color\":\"red\"},\"type\":\"line\",\"x0\":0,\"x1\":1,\"xref\":\"x4 domain\",\"y0\":34.0,\"y1\":34.0,\"yref\":\"y4\"},{\"type\":\"line\",\"x0\":0,\"x1\":1,\"xref\":\"x8 domain\",\"y0\":2.0,\"y1\":2.0,\"yref\":\"y8\"},{\"line\":{\"color\":\"red\"},\"type\":\"line\",\"x0\":0,\"x1\":1,\"xref\":\"x8 domain\",\"y0\":3.4,\"y1\":3.4,\"yref\":\"y8\"}],\"title\":{\"text\":\"Tyrese Haliburton\"},\"height\":750,\"width\":1100},                        {\"responsive\": true}                    ).then(function(){\n",
       "                            \n",
       "var gd = document.getElementById('1bbae293-c8af-4b17-88db-7584f7f7be5e');\n",
       "var x = new MutationObserver(function (mutations, observer) {{\n",
       "        var display = window.getComputedStyle(gd).display;\n",
       "        if (!display || display === 'none') {{\n",
       "            console.log([gd, 'removed!']);\n",
       "            Plotly.purge(gd);\n",
       "            observer.disconnect();\n",
       "        }}\n",
       "}});\n",
       "\n",
       "// Listen for the removal of the full notebook cells\n",
       "var notebookContainer = gd.closest('#notebook-container');\n",
       "if (notebookContainer) {{\n",
       "    x.observe(notebookContainer, {childList: true});\n",
       "}}\n",
       "\n",
       "// Listen for the clearing of the current output cell\n",
       "var outputEl = gd.closest('.output');\n",
       "if (outputEl) {{\n",
       "    x.observe(outputEl, {childList: true});\n",
       "}}\n",
       "\n",
       "                        })                };                });            </script>        </div>"
      ]
     },
     "metadata": {},
     "output_type": "display_data"
    }
   ],
   "source": [
    "from plotly.subplots import make_subplots\n",
    "import plotly.graph_objects as go\n",
    "\n",
    "fig = make_subplots(\n",
    "    rows=2, cols=4,\n",
    "    subplot_titles=(\"Points\", \"Assists\", \"Rebounds\",\"P+R+A\",\"R+A\",\"P+A\", \"P+R\", \"3's\"))\n",
    "\n",
    "fig.add_trace(go.Bar(x = play_no['GAME_DATE'] ,y = play_no['PTS'], name=\"Points\", text=play_no['MATCHUP']), row=1, col=1)\n",
    "fig.add_hline(y=pl, row=1, col=1,annotation_text=\"Median\")\n",
    "fig.add_hline(y=plm,row=1,col=1,line_color='red',annotation_text=\"Mean\",annotation_position=\"left\")\n",
    "\n",
    "fig.add_trace(go.Bar(x= play_no['GAME_DATE'], y=play_no['AST'],name=\"Assists\", text= play_no['MATCHUP']), row=1, col=2)\n",
    "fig.add_hline(y=al, row=1, col=2,annotation_text=\"Median\")\n",
    "fig.add_hline(y=alm,row=1,col=2,line_color='red',annotation_text=\"Mean\",annotation_position=\"left\")\n",
    "\n",
    "fig.add_trace(go.Bar(x=play_no['GAME_DATE'], y=play_no['REB'],name=\"Rebounds\", text = play_no['MATCHUP']), row=1, col=3)\n",
    "fig.add_hline(y=rl, row=1, col=3,annotation_text=\"Median\")\n",
    "fig.add_hline(y=rlm,row=1,col=3,line_color='red',annotation_text=\"Mean\",annotation_position=\"left\")\n",
    "\n",
    "fig.add_trace(go.Bar(x=play_no['GAME_DATE'], y=play_no['P+A'],name=\"P+A\", text=play_no['MATCHUP']),  row=2, col=2)\n",
    "fig.add_hline(y=pal, row=2, col=2,annotation_text=\"Median\")\n",
    "fig.add_hline(y=palm,row=2,col=2,line_color='red',annotation_text=\"Mean\",annotation_position=\"left\")\n",
    "\n",
    "fig.add_trace(go.Bar(x=play_no['GAME_DATE'], y=play_no['P+R'],name=\"P+R\", text=play_no['MATCHUP']), row=2,col=3)\n",
    "fig.add_hline(y=prl, row=2, col=3,annotation_text=\"Median\")\n",
    "fig.add_hline(y=prlm,row=2,col=3,line_color='red',annotation_text=\"Mean\",annotation_position=\"left\")\n",
    "\n",
    "fig.add_trace(go.Bar(x=play_no['GAME_DATE'], y=play_no['R+A'],name=\"R+A\", text = play_no['MATCHUP']), row=2,col=1)\n",
    "fig.add_hline(y=ral, row=2, col=1,annotation_text=\"Median\")\n",
    "fig.add_hline(y=ralm,row=2,col=1,line_color='red',annotation_text=\"Mean\",annotation_position=\"left\")\n",
    "\n",
    "fig.add_trace(go.Bar(x=play_no['GAME_DATE'], y=play_no['P+R+A'],name=\"P+R+A\", text=play_no['MATCHUP']), row=1, col=4)\n",
    "fig.add_hline(y=pral, row=1, col=4,annotation_text=\"Median\")\n",
    "fig.add_hline(y=pralm,row=1,col=4,line_color='red',annotation_text=\"Mean\",annotation_position=\"left\")\n",
    "\n",
    "fig.add_trace(go.Bar(x=play_no['GAME_DATE'], y=play_no['FG3M'], name=\"3's\", text=play_no['MATCHUP']), row=2, col=4)\n",
    "fig.add_hline(y=thr, row=2, col=4,annotation_text=\"Median\")\n",
    "fig.add_hline(y=thrm,row=2,col=4,line_color='red',annotation_text=\"Mean\",annotation_position=\"left\")\n",
    "              \n",
    "                   \n",
    "fig.update_layout(height=750, width=1100,\n",
    "                  title_text= inplayer)\n",
    "\n",
    "fig.show()"
   ]
  },
  {
   "cell_type": "markdown",
   "id": "b097f240-39f3-452d-bd79-0866d66c1094",
   "metadata": {},
   "source": [
    "## Season Data\n",
    "\n",
    "It is possible to show a graph for all the data the player has accrued over a season which can be compared to the graphs above which could hold a much smaller or larger sample. This could help showif a player is in or out of form or the impact of team or style changes. The season can be changed as off the 4th line of the 3rd cell"
   ]
  },
  {
   "cell_type": "code",
   "execution_count": 236,
   "id": "936040ee-bc44-489d-befa-53b8c54fa12c",
   "metadata": {
    "tags": []
   },
   "outputs": [
    {
     "data": {
      "application/vnd.plotly.v1+json": {
       "config": {
        "plotlyServerURL": "https://plot.ly"
       },
       "data": [
        {
         "alignmentgroup": "True",
         "hovertemplate": "GAME_DATE=%{x}<br>PTS=%{y}<extra></extra>",
         "legendgroup": "",
         "marker": {
          "color": "#636efa",
          "pattern": {
           "shape": ""
          }
         },
         "name": "",
         "offsetgroup": "",
         "orientation": "v",
         "showlegend": false,
         "textposition": "auto",
         "type": "bar",
         "x": [
          "JAN 06, 2023",
          "JAN 04, 2023",
          "JAN 02, 2023",
          "DEC 30, 2022",
          "DEC 29, 2022",
          "DEC 27, 2022",
          "DEC 23, 2022",
          "DEC 21, 2022",
          "DEC 19, 2022",
          "DEC 18, 2022",
          "DEC 16, 2022",
          "DEC 14, 2022",
          "DEC 11, 2022",
          "DEC 09, 2022",
          "DEC 07, 2022",
          "DEC 05, 2022",
          "DEC 03, 2022",
          "DEC 02, 2022",
          "NOV 30, 2022",
          "NOV 28, 2022",
          "NOV 19, 2022",
          "NOV 16, 2022",
          "NOV 14, 2022",
          "NOV 12, 2022",
          "NOV 11, 2022",
          "NOV 09, 2022",
          "NOV 07, 2022",
          "NOV 06, 2022",
          "NOV 04, 2022",
          "NOV 02, 2022",
          "OCT 31, 2022",
          "OCT 28, 2022",
          "OCT 26, 2022",
          "OCT 22, 2022",
          "OCT 21, 2022",
          "OCT 19, 2022"
         ],
         "xaxis": "x",
         "y": [
          7,
          19,
          23,
          11,
          14,
          17,
          25,
          2,
          6,
          17,
          26,
          27,
          11,
          6,
          13,
          21,
          17,
          17,
          4,
          11,
          28,
          19,
          8,
          8,
          15,
          13,
          5,
          19,
          11,
          15,
          21,
          13,
          16,
          11,
          17,
          15
         ],
         "yaxis": "y"
        }
       ],
       "layout": {
        "autosize": true,
        "barmode": "relative",
        "legend": {
         "tracegroupgap": 0
        },
        "template": {
         "data": {
          "bar": [
           {
            "error_x": {
             "color": "#2a3f5f"
            },
            "error_y": {
             "color": "#2a3f5f"
            },
            "marker": {
             "line": {
              "color": "#E5ECF6",
              "width": 0.5
             },
             "pattern": {
              "fillmode": "overlay",
              "size": 10,
              "solidity": 0.2
             }
            },
            "type": "bar"
           }
          ],
          "barpolar": [
           {
            "marker": {
             "line": {
              "color": "#E5ECF6",
              "width": 0.5
             },
             "pattern": {
              "fillmode": "overlay",
              "size": 10,
              "solidity": 0.2
             }
            },
            "type": "barpolar"
           }
          ],
          "carpet": [
           {
            "aaxis": {
             "endlinecolor": "#2a3f5f",
             "gridcolor": "white",
             "linecolor": "white",
             "minorgridcolor": "white",
             "startlinecolor": "#2a3f5f"
            },
            "baxis": {
             "endlinecolor": "#2a3f5f",
             "gridcolor": "white",
             "linecolor": "white",
             "minorgridcolor": "white",
             "startlinecolor": "#2a3f5f"
            },
            "type": "carpet"
           }
          ],
          "choropleth": [
           {
            "colorbar": {
             "outlinewidth": 0,
             "ticks": ""
            },
            "type": "choropleth"
           }
          ],
          "contour": [
           {
            "colorbar": {
             "outlinewidth": 0,
             "ticks": ""
            },
            "colorscale": [
             [
              0,
              "#0d0887"
             ],
             [
              0.1111111111111111,
              "#46039f"
             ],
             [
              0.2222222222222222,
              "#7201a8"
             ],
             [
              0.3333333333333333,
              "#9c179e"
             ],
             [
              0.4444444444444444,
              "#bd3786"
             ],
             [
              0.5555555555555556,
              "#d8576b"
             ],
             [
              0.6666666666666666,
              "#ed7953"
             ],
             [
              0.7777777777777778,
              "#fb9f3a"
             ],
             [
              0.8888888888888888,
              "#fdca26"
             ],
             [
              1,
              "#f0f921"
             ]
            ],
            "type": "contour"
           }
          ],
          "contourcarpet": [
           {
            "colorbar": {
             "outlinewidth": 0,
             "ticks": ""
            },
            "type": "contourcarpet"
           }
          ],
          "heatmap": [
           {
            "colorbar": {
             "outlinewidth": 0,
             "ticks": ""
            },
            "colorscale": [
             [
              0,
              "#0d0887"
             ],
             [
              0.1111111111111111,
              "#46039f"
             ],
             [
              0.2222222222222222,
              "#7201a8"
             ],
             [
              0.3333333333333333,
              "#9c179e"
             ],
             [
              0.4444444444444444,
              "#bd3786"
             ],
             [
              0.5555555555555556,
              "#d8576b"
             ],
             [
              0.6666666666666666,
              "#ed7953"
             ],
             [
              0.7777777777777778,
              "#fb9f3a"
             ],
             [
              0.8888888888888888,
              "#fdca26"
             ],
             [
              1,
              "#f0f921"
             ]
            ],
            "type": "heatmap"
           }
          ],
          "heatmapgl": [
           {
            "colorbar": {
             "outlinewidth": 0,
             "ticks": ""
            },
            "colorscale": [
             [
              0,
              "#0d0887"
             ],
             [
              0.1111111111111111,
              "#46039f"
             ],
             [
              0.2222222222222222,
              "#7201a8"
             ],
             [
              0.3333333333333333,
              "#9c179e"
             ],
             [
              0.4444444444444444,
              "#bd3786"
             ],
             [
              0.5555555555555556,
              "#d8576b"
             ],
             [
              0.6666666666666666,
              "#ed7953"
             ],
             [
              0.7777777777777778,
              "#fb9f3a"
             ],
             [
              0.8888888888888888,
              "#fdca26"
             ],
             [
              1,
              "#f0f921"
             ]
            ],
            "type": "heatmapgl"
           }
          ],
          "histogram": [
           {
            "marker": {
             "pattern": {
              "fillmode": "overlay",
              "size": 10,
              "solidity": 0.2
             }
            },
            "type": "histogram"
           }
          ],
          "histogram2d": [
           {
            "colorbar": {
             "outlinewidth": 0,
             "ticks": ""
            },
            "colorscale": [
             [
              0,
              "#0d0887"
             ],
             [
              0.1111111111111111,
              "#46039f"
             ],
             [
              0.2222222222222222,
              "#7201a8"
             ],
             [
              0.3333333333333333,
              "#9c179e"
             ],
             [
              0.4444444444444444,
              "#bd3786"
             ],
             [
              0.5555555555555556,
              "#d8576b"
             ],
             [
              0.6666666666666666,
              "#ed7953"
             ],
             [
              0.7777777777777778,
              "#fb9f3a"
             ],
             [
              0.8888888888888888,
              "#fdca26"
             ],
             [
              1,
              "#f0f921"
             ]
            ],
            "type": "histogram2d"
           }
          ],
          "histogram2dcontour": [
           {
            "colorbar": {
             "outlinewidth": 0,
             "ticks": ""
            },
            "colorscale": [
             [
              0,
              "#0d0887"
             ],
             [
              0.1111111111111111,
              "#46039f"
             ],
             [
              0.2222222222222222,
              "#7201a8"
             ],
             [
              0.3333333333333333,
              "#9c179e"
             ],
             [
              0.4444444444444444,
              "#bd3786"
             ],
             [
              0.5555555555555556,
              "#d8576b"
             ],
             [
              0.6666666666666666,
              "#ed7953"
             ],
             [
              0.7777777777777778,
              "#fb9f3a"
             ],
             [
              0.8888888888888888,
              "#fdca26"
             ],
             [
              1,
              "#f0f921"
             ]
            ],
            "type": "histogram2dcontour"
           }
          ],
          "mesh3d": [
           {
            "colorbar": {
             "outlinewidth": 0,
             "ticks": ""
            },
            "type": "mesh3d"
           }
          ],
          "parcoords": [
           {
            "line": {
             "colorbar": {
              "outlinewidth": 0,
              "ticks": ""
             }
            },
            "type": "parcoords"
           }
          ],
          "pie": [
           {
            "automargin": true,
            "type": "pie"
           }
          ],
          "scatter": [
           {
            "marker": {
             "colorbar": {
              "outlinewidth": 0,
              "ticks": ""
             }
            },
            "type": "scatter"
           }
          ],
          "scatter3d": [
           {
            "line": {
             "colorbar": {
              "outlinewidth": 0,
              "ticks": ""
             }
            },
            "marker": {
             "colorbar": {
              "outlinewidth": 0,
              "ticks": ""
             }
            },
            "type": "scatter3d"
           }
          ],
          "scattercarpet": [
           {
            "marker": {
             "colorbar": {
              "outlinewidth": 0,
              "ticks": ""
             }
            },
            "type": "scattercarpet"
           }
          ],
          "scattergeo": [
           {
            "marker": {
             "colorbar": {
              "outlinewidth": 0,
              "ticks": ""
             }
            },
            "type": "scattergeo"
           }
          ],
          "scattergl": [
           {
            "marker": {
             "colorbar": {
              "outlinewidth": 0,
              "ticks": ""
             }
            },
            "type": "scattergl"
           }
          ],
          "scattermapbox": [
           {
            "marker": {
             "colorbar": {
              "outlinewidth": 0,
              "ticks": ""
             }
            },
            "type": "scattermapbox"
           }
          ],
          "scatterpolar": [
           {
            "marker": {
             "colorbar": {
              "outlinewidth": 0,
              "ticks": ""
             }
            },
            "type": "scatterpolar"
           }
          ],
          "scatterpolargl": [
           {
            "marker": {
             "colorbar": {
              "outlinewidth": 0,
              "ticks": ""
             }
            },
            "type": "scatterpolargl"
           }
          ],
          "scatterternary": [
           {
            "marker": {
             "colorbar": {
              "outlinewidth": 0,
              "ticks": ""
             }
            },
            "type": "scatterternary"
           }
          ],
          "surface": [
           {
            "colorbar": {
             "outlinewidth": 0,
             "ticks": ""
            },
            "colorscale": [
             [
              0,
              "#0d0887"
             ],
             [
              0.1111111111111111,
              "#46039f"
             ],
             [
              0.2222222222222222,
              "#7201a8"
             ],
             [
              0.3333333333333333,
              "#9c179e"
             ],
             [
              0.4444444444444444,
              "#bd3786"
             ],
             [
              0.5555555555555556,
              "#d8576b"
             ],
             [
              0.6666666666666666,
              "#ed7953"
             ],
             [
              0.7777777777777778,
              "#fb9f3a"
             ],
             [
              0.8888888888888888,
              "#fdca26"
             ],
             [
              1,
              "#f0f921"
             ]
            ],
            "type": "surface"
           }
          ],
          "table": [
           {
            "cells": {
             "fill": {
              "color": "#EBF0F8"
             },
             "line": {
              "color": "white"
             }
            },
            "header": {
             "fill": {
              "color": "#C8D4E3"
             },
             "line": {
              "color": "white"
             }
            },
            "type": "table"
           }
          ]
         },
         "layout": {
          "annotationdefaults": {
           "arrowcolor": "#2a3f5f",
           "arrowhead": 0,
           "arrowwidth": 1
          },
          "autotypenumbers": "strict",
          "coloraxis": {
           "colorbar": {
            "outlinewidth": 0,
            "ticks": ""
           }
          },
          "colorscale": {
           "diverging": [
            [
             0,
             "#8e0152"
            ],
            [
             0.1,
             "#c51b7d"
            ],
            [
             0.2,
             "#de77ae"
            ],
            [
             0.3,
             "#f1b6da"
            ],
            [
             0.4,
             "#fde0ef"
            ],
            [
             0.5,
             "#f7f7f7"
            ],
            [
             0.6,
             "#e6f5d0"
            ],
            [
             0.7,
             "#b8e186"
            ],
            [
             0.8,
             "#7fbc41"
            ],
            [
             0.9,
             "#4d9221"
            ],
            [
             1,
             "#276419"
            ]
           ],
           "sequential": [
            [
             0,
             "#0d0887"
            ],
            [
             0.1111111111111111,
             "#46039f"
            ],
            [
             0.2222222222222222,
             "#7201a8"
            ],
            [
             0.3333333333333333,
             "#9c179e"
            ],
            [
             0.4444444444444444,
             "#bd3786"
            ],
            [
             0.5555555555555556,
             "#d8576b"
            ],
            [
             0.6666666666666666,
             "#ed7953"
            ],
            [
             0.7777777777777778,
             "#fb9f3a"
            ],
            [
             0.8888888888888888,
             "#fdca26"
            ],
            [
             1,
             "#f0f921"
            ]
           ],
           "sequentialminus": [
            [
             0,
             "#0d0887"
            ],
            [
             0.1111111111111111,
             "#46039f"
            ],
            [
             0.2222222222222222,
             "#7201a8"
            ],
            [
             0.3333333333333333,
             "#9c179e"
            ],
            [
             0.4444444444444444,
             "#bd3786"
            ],
            [
             0.5555555555555556,
             "#d8576b"
            ],
            [
             0.6666666666666666,
             "#ed7953"
            ],
            [
             0.7777777777777778,
             "#fb9f3a"
            ],
            [
             0.8888888888888888,
             "#fdca26"
            ],
            [
             1,
             "#f0f921"
            ]
           ]
          },
          "colorway": [
           "#636efa",
           "#EF553B",
           "#00cc96",
           "#ab63fa",
           "#FFA15A",
           "#19d3f3",
           "#FF6692",
           "#B6E880",
           "#FF97FF",
           "#FECB52"
          ],
          "font": {
           "color": "#2a3f5f"
          },
          "geo": {
           "bgcolor": "white",
           "lakecolor": "white",
           "landcolor": "#E5ECF6",
           "showlakes": true,
           "showland": true,
           "subunitcolor": "white"
          },
          "hoverlabel": {
           "align": "left"
          },
          "hovermode": "closest",
          "mapbox": {
           "style": "light"
          },
          "paper_bgcolor": "white",
          "plot_bgcolor": "#E5ECF6",
          "polar": {
           "angularaxis": {
            "gridcolor": "white",
            "linecolor": "white",
            "ticks": ""
           },
           "bgcolor": "#E5ECF6",
           "radialaxis": {
            "gridcolor": "white",
            "linecolor": "white",
            "ticks": ""
           }
          },
          "scene": {
           "xaxis": {
            "backgroundcolor": "#E5ECF6",
            "gridcolor": "white",
            "gridwidth": 2,
            "linecolor": "white",
            "showbackground": true,
            "ticks": "",
            "zerolinecolor": "white"
           },
           "yaxis": {
            "backgroundcolor": "#E5ECF6",
            "gridcolor": "white",
            "gridwidth": 2,
            "linecolor": "white",
            "showbackground": true,
            "ticks": "",
            "zerolinecolor": "white"
           },
           "zaxis": {
            "backgroundcolor": "#E5ECF6",
            "gridcolor": "white",
            "gridwidth": 2,
            "linecolor": "white",
            "showbackground": true,
            "ticks": "",
            "zerolinecolor": "white"
           }
          },
          "shapedefaults": {
           "line": {
            "color": "#2a3f5f"
           }
          },
          "ternary": {
           "aaxis": {
            "gridcolor": "white",
            "linecolor": "white",
            "ticks": ""
           },
           "baxis": {
            "gridcolor": "white",
            "linecolor": "white",
            "ticks": ""
           },
           "bgcolor": "#E5ECF6",
           "caxis": {
            "gridcolor": "white",
            "linecolor": "white",
            "ticks": ""
           }
          },
          "title": {
           "x": 0.05
          },
          "xaxis": {
           "automargin": true,
           "gridcolor": "white",
           "linecolor": "white",
           "ticks": "",
           "title": {
            "standoff": 15
           },
           "zerolinecolor": "white",
           "zerolinewidth": 2
          },
          "yaxis": {
           "automargin": true,
           "gridcolor": "white",
           "linecolor": "white",
           "ticks": "",
           "title": {
            "standoff": 15
           },
           "zerolinecolor": "white",
           "zerolinewidth": 2
          }
         }
        },
        "title": {
         "text": "Scottie Barnes"
        },
        "updatemenus": [
         {
          "active": 0,
          "buttons": [
           {
            "args": [
             {
              "y": [
               [
                7,
                19,
                23,
                11,
                14,
                17,
                25,
                2,
                6,
                17,
                26,
                27,
                11,
                6,
                13,
                21,
                17,
                17,
                4,
                11,
                28,
                19,
                8,
                8,
                15,
                13,
                5,
                19,
                11,
                15,
                21,
                13,
                16,
                11,
                17,
                15
               ],
               [
                "JAN 06, 2023",
                "JAN 04, 2023",
                "JAN 02, 2023",
                "DEC 30, 2022",
                "DEC 29, 2022",
                "DEC 27, 2022",
                "DEC 23, 2022",
                "DEC 21, 2022",
                "DEC 19, 2022",
                "DEC 18, 2022",
                "DEC 16, 2022",
                "DEC 14, 2022",
                "DEC 11, 2022",
                "DEC 09, 2022",
                "DEC 07, 2022",
                "DEC 05, 2022",
                "DEC 03, 2022",
                "DEC 02, 2022",
                "NOV 30, 2022",
                "NOV 28, 2022",
                "NOV 19, 2022",
                "NOV 16, 2022",
                "NOV 14, 2022",
                "NOV 12, 2022",
                "NOV 11, 2022",
                "NOV 09, 2022",
                "NOV 07, 2022",
                "NOV 06, 2022",
                "NOV 04, 2022",
                "NOV 02, 2022",
                "OCT 31, 2022",
                "OCT 28, 2022",
                "OCT 26, 2022",
                "OCT 22, 2022",
                "OCT 21, 2022",
                "OCT 19, 2022"
               ]
              ]
             }
            ],
            "label": "Points",
            "method": "update"
           },
           {
            "args": [
             {
              "y": [
               [
                5,
                3,
                8,
                3,
                4,
                8,
                4,
                3,
                3,
                4,
                3,
                10,
                0,
                2,
                4,
                4,
                4,
                3,
                5,
                5,
                9,
                6,
                4,
                5,
                4,
                5,
                5,
                4,
                10,
                5,
                8,
                1,
                5,
                2,
                3,
                7
               ],
               [
                "JAN 06, 2023",
                "JAN 04, 2023",
                "JAN 02, 2023",
                "DEC 30, 2022",
                "DEC 29, 2022",
                "DEC 27, 2022",
                "DEC 23, 2022",
                "DEC 21, 2022",
                "DEC 19, 2022",
                "DEC 18, 2022",
                "DEC 16, 2022",
                "DEC 14, 2022",
                "DEC 11, 2022",
                "DEC 09, 2022",
                "DEC 07, 2022",
                "DEC 05, 2022",
                "DEC 03, 2022",
                "DEC 02, 2022",
                "NOV 30, 2022",
                "NOV 28, 2022",
                "NOV 19, 2022",
                "NOV 16, 2022",
                "NOV 14, 2022",
                "NOV 12, 2022",
                "NOV 11, 2022",
                "NOV 09, 2022",
                "NOV 07, 2022",
                "NOV 06, 2022",
                "NOV 04, 2022",
                "NOV 02, 2022",
                "OCT 31, 2022",
                "OCT 28, 2022",
                "OCT 26, 2022",
                "OCT 22, 2022",
                "OCT 21, 2022",
                "OCT 19, 2022"
               ]
              ]
             }
            ],
            "label": "Assists",
            "method": "update"
           },
           {
            "args": [
             {
              "y": [
               [
                6,
                4,
                8,
                5,
                10,
                12,
                10,
                6,
                3,
                5,
                3,
                7,
                2,
                6,
                17,
                7,
                14,
                9,
                1,
                4,
                11,
                6,
                5,
                9,
                3,
                8,
                6,
                10,
                11,
                4,
                7,
                6,
                10,
                2,
                7,
                3
               ],
               [
                "JAN 06, 2023",
                "JAN 04, 2023",
                "JAN 02, 2023",
                "DEC 30, 2022",
                "DEC 29, 2022",
                "DEC 27, 2022",
                "DEC 23, 2022",
                "DEC 21, 2022",
                "DEC 19, 2022",
                "DEC 18, 2022",
                "DEC 16, 2022",
                "DEC 14, 2022",
                "DEC 11, 2022",
                "DEC 09, 2022",
                "DEC 07, 2022",
                "DEC 05, 2022",
                "DEC 03, 2022",
                "DEC 02, 2022",
                "NOV 30, 2022",
                "NOV 28, 2022",
                "NOV 19, 2022",
                "NOV 16, 2022",
                "NOV 14, 2022",
                "NOV 12, 2022",
                "NOV 11, 2022",
                "NOV 09, 2022",
                "NOV 07, 2022",
                "NOV 06, 2022",
                "NOV 04, 2022",
                "NOV 02, 2022",
                "OCT 31, 2022",
                "OCT 28, 2022",
                "OCT 26, 2022",
                "OCT 22, 2022",
                "OCT 21, 2022",
                "OCT 19, 2022"
               ]
              ]
             }
            ],
            "label": "Rebounds",
            "method": "update"
           }
          ],
          "direction": "right",
          "showactive": true,
          "type": "buttons",
          "x": 0.7,
          "y": 1.2
         }
        ],
        "xaxis": {
         "anchor": "y",
         "autorange": true,
         "domain": [
          0,
          1
         ],
         "range": [
          -0.5,
          35.5
         ],
         "showspikes": false,
         "title": {
          "text": "GAME_DATE"
         },
         "type": "category"
        },
        "yaxis": {
         "anchor": "x",
         "autorange": true,
         "domain": [
          0,
          1
         ],
         "range": [
          0,
          29.473684210526315
         ],
         "showspikes": false,
         "title": {
          "text": "PTS"
         },
         "type": "linear"
        }
       }
      },
      "image/png": "[encoded data removed]",
      "text/html": [
       "<div>                            <div id=\"fa82317c-3323-4091-a8db-ed9a595dc11a\" class=\"plotly-graph-div\" style=\"height:525px; width:100%;\"></div>            <script type=\"text/javascript\">                require([\"plotly\"], function(Plotly) {                    window.PLOTLYENV=window.PLOTLYENV || {};                                    if (document.getElementById(\"fa82317c-3323-4091-a8db-ed9a595dc11a\")) {                    Plotly.newPlot(                        \"fa82317c-3323-4091-a8db-ed9a595dc11a\",                        [{\"alignmentgroup\":\"True\",\"hovertemplate\":\"GAME_DATE=%{x}<br>PTS=%{y}<extra></extra>\",\"legendgroup\":\"\",\"marker\":{\"color\":\"#636efa\",\"pattern\":{\"shape\":\"\"}},\"name\":\"\",\"offsetgroup\":\"\",\"orientation\":\"v\",\"showlegend\":false,\"textposition\":\"auto\",\"x\":[\"JAN 06, 2023\",\"JAN 04, 2023\",\"JAN 02, 2023\",\"DEC 30, 2022\",\"DEC 29, 2022\",\"DEC 27, 2022\",\"DEC 23, 2022\",\"DEC 21, 2022\",\"DEC 19, 2022\",\"DEC 18, 2022\",\"DEC 16, 2022\",\"DEC 14, 2022\",\"DEC 11, 2022\",\"DEC 09, 2022\",\"DEC 07, 2022\",\"DEC 05, 2022\",\"DEC 03, 2022\",\"DEC 02, 2022\",\"NOV 30, 2022\",\"NOV 28, 2022\",\"NOV 19, 2022\",\"NOV 16, 2022\",\"NOV 14, 2022\",\"NOV 12, 2022\",\"NOV 11, 2022\",\"NOV 09, 2022\",\"NOV 07, 2022\",\"NOV 06, 2022\",\"NOV 04, 2022\",\"NOV 02, 2022\",\"OCT 31, 2022\",\"OCT 28, 2022\",\"OCT 26, 2022\",\"OCT 22, 2022\",\"OCT 21, 2022\",\"OCT 19, 2022\"],\"xaxis\":\"x\",\"y\":[7,19,23,11,14,17,25,2,6,17,26,27,11,6,13,21,17,17,4,11,28,19,8,8,15,13,5,19,11,15,21,13,16,11,17,15],\"yaxis\":\"y\",\"type\":\"bar\"}],                        {\"template\":{\"data\":{\"bar\":[{\"error_x\":{\"color\":\"#2a3f5f\"},\"error_y\":{\"color\":\"#2a3f5f\"},\"marker\":{\"line\":{\"color\":\"#E5ECF6\",\"width\":0.5},\"pattern\":{\"fillmode\":\"overlay\",\"size\":10,\"solidity\":0.2}},\"type\":\"bar\"}],\"barpolar\":[{\"marker\":{\"line\":{\"color\":\"#E5ECF6\",\"width\":0.5},\"pattern\":{\"fillmode\":\"overlay\",\"size\":10,\"solidity\":0.2}},\"type\":\"barpolar\"}],\"carpet\":[{\"aaxis\":{\"endlinecolor\":\"#2a3f5f\",\"gridcolor\":\"white\",\"linecolor\":\"white\",\"minorgridcolor\":\"white\",\"startlinecolor\":\"#2a3f5f\"},\"baxis\":{\"endlinecolor\":\"#2a3f5f\",\"gridcolor\":\"white\",\"linecolor\":\"white\",\"minorgridcolor\":\"white\",\"startlinecolor\":\"#2a3f5f\"},\"type\":\"carpet\"}],\"choropleth\":[{\"colorbar\":{\"outlinewidth\":0,\"ticks\":\"\"},\"type\":\"choropleth\"}],\"contour\":[{\"colorbar\":{\"outlinewidth\":0,\"ticks\":\"\"},\"colorscale\":[[0.0,\"#0d0887\"],[0.1111111111111111,\"#46039f\"],[0.2222222222222222,\"#7201a8\"],[0.3333333333333333,\"#9c179e\"],[0.4444444444444444,\"#bd3786\"],[0.5555555555555556,\"#d8576b\"],[0.6666666666666666,\"#ed7953\"],[0.7777777777777778,\"#fb9f3a\"],[0.8888888888888888,\"#fdca26\"],[1.0,\"#f0f921\"]],\"type\":\"contour\"}],\"contourcarpet\":[{\"colorbar\":{\"outlinewidth\":0,\"ticks\":\"\"},\"type\":\"contourcarpet\"}],\"heatmap\":[{\"colorbar\":{\"outlinewidth\":0,\"ticks\":\"\"},\"colorscale\":[[0.0,\"#0d0887\"],[0.1111111111111111,\"#46039f\"],[0.2222222222222222,\"#7201a8\"],[0.3333333333333333,\"#9c179e\"],[0.4444444444444444,\"#bd3786\"],[0.5555555555555556,\"#d8576b\"],[0.6666666666666666,\"#ed7953\"],[0.7777777777777778,\"#fb9f3a\"],[0.8888888888888888,\"#fdca26\"],[1.0,\"#f0f921\"]],\"type\":\"heatmap\"}],\"heatmapgl\":[{\"colorbar\":{\"outlinewidth\":0,\"ticks\":\"\"},\"colorscale\":[[0.0,\"#0d0887\"],[0.1111111111111111,\"#46039f\"],[0.2222222222222222,\"#7201a8\"],[0.3333333333333333,\"#9c179e\"],[0.4444444444444444,\"#bd3786\"],[0.5555555555555556,\"#d8576b\"],[0.6666666666666666,\"#ed7953\"],[0.7777777777777778,\"#fb9f3a\"],[0.8888888888888888,\"#fdca26\"],[1.0,\"#f0f921\"]],\"type\":\"heatmapgl\"}],\"histogram\":[{\"marker\":{\"pattern\":{\"fillmode\":\"overlay\",\"size\":10,\"solidity\":0.2}},\"type\":\"histogram\"}],\"histogram2d\":[{\"colorbar\":{\"outlinewidth\":0,\"ticks\":\"\"},\"colorscale\":[[0.0,\"#0d0887\"],[0.1111111111111111,\"#46039f\"],[0.2222222222222222,\"#7201a8\"],[0.3333333333333333,\"#9c179e\"],[0.4444444444444444,\"#bd3786\"],[0.5555555555555556,\"#d8576b\"],[0.6666666666666666,\"#ed7953\"],[0.7777777777777778,\"#fb9f3a\"],[0.8888888888888888,\"#fdca26\"],[1.0,\"#f0f921\"]],\"type\":\"histogram2d\"}],\"histogram2dcontour\":[{\"colorbar\":{\"outlinewidth\":0,\"ticks\":\"\"},\"colorscale\":[[0.0,\"#0d0887\"],[0.1111111111111111,\"#46039f\"],[0.2222222222222222,\"#7201a8\"],[0.3333333333333333,\"#9c179e\"],[0.4444444444444444,\"#bd3786\"],[0.5555555555555556,\"#d8576b\"],[0.6666666666666666,\"#ed7953\"],[0.7777777777777778,\"#fb9f3a\"],[0.8888888888888888,\"#fdca26\"],[1.0,\"#f0f921\"]],\"type\":\"histogram2dcontour\"}],\"mesh3d\":[{\"colorbar\":{\"outlinewidth\":0,\"ticks\":\"\"},\"type\":\"mesh3d\"}],\"parcoords\":[{\"line\":{\"colorbar\":{\"outlinewidth\":0,\"ticks\":\"\"}},\"type\":\"parcoords\"}],\"pie\":[{\"automargin\":true,\"type\":\"pie\"}],\"scatter\":[{\"marker\":{\"colorbar\":{\"outlinewidth\":0,\"ticks\":\"\"}},\"type\":\"scatter\"}],\"scatter3d\":[{\"line\":{\"colorbar\":{\"outlinewidth\":0,\"ticks\":\"\"}},\"marker\":{\"colorbar\":{\"outlinewidth\":0,\"ticks\":\"\"}},\"type\":\"scatter3d\"}],\"scattercarpet\":[{\"marker\":{\"colorbar\":{\"outlinewidth\":0,\"ticks\":\"\"}},\"type\":\"scattercarpet\"}],\"scattergeo\":[{\"marker\":{\"colorbar\":{\"outlinewidth\":0,\"ticks\":\"\"}},\"type\":\"scattergeo\"}],\"scattergl\":[{\"marker\":{\"colorbar\":{\"outlinewidth\":0,\"ticks\":\"\"}},\"type\":\"scattergl\"}],\"scattermapbox\":[{\"marker\":{\"colorbar\":{\"outlinewidth\":0,\"ticks\":\"\"}},\"type\":\"scattermapbox\"}],\"scatterpolar\":[{\"marker\":{\"colorbar\":{\"outlinewidth\":0,\"ticks\":\"\"}},\"type\":\"scatterpolar\"}],\"scatterpolargl\":[{\"marker\":{\"colorbar\":{\"outlinewidth\":0,\"ticks\":\"\"}},\"type\":\"scatterpolargl\"}],\"scatterternary\":[{\"marker\":{\"colorbar\":{\"outlinewidth\":0,\"ticks\":\"\"}},\"type\":\"scatterternary\"}],\"surface\":[{\"colorbar\":{\"outlinewidth\":0,\"ticks\":\"\"},\"colorscale\":[[0.0,\"#0d0887\"],[0.1111111111111111,\"#46039f\"],[0.2222222222222222,\"#7201a8\"],[0.3333333333333333,\"#9c179e\"],[0.4444444444444444,\"#bd3786\"],[0.5555555555555556,\"#d8576b\"],[0.6666666666666666,\"#ed7953\"],[0.7777777777777778,\"#fb9f3a\"],[0.8888888888888888,\"#fdca26\"],[1.0,\"#f0f921\"]],\"type\":\"surface\"}],\"table\":[{\"cells\":{\"fill\":{\"color\":\"#EBF0F8\"},\"line\":{\"color\":\"white\"}},\"header\":{\"fill\":{\"color\":\"#C8D4E3\"},\"line\":{\"color\":\"white\"}},\"type\":\"table\"}]},\"layout\":{\"annotationdefaults\":{\"arrowcolor\":\"#2a3f5f\",\"arrowhead\":0,\"arrowwidth\":1},\"autotypenumbers\":\"strict\",\"coloraxis\":{\"colorbar\":{\"outlinewidth\":0,\"ticks\":\"\"}},\"colorscale\":{\"diverging\":[[0,\"#8e0152\"],[0.1,\"#c51b7d\"],[0.2,\"#de77ae\"],[0.3,\"#f1b6da\"],[0.4,\"#fde0ef\"],[0.5,\"#f7f7f7\"],[0.6,\"#e6f5d0\"],[0.7,\"#b8e186\"],[0.8,\"#7fbc41\"],[0.9,\"#4d9221\"],[1,\"#276419\"]],\"sequential\":[[0.0,\"#0d0887\"],[0.1111111111111111,\"#46039f\"],[0.2222222222222222,\"#7201a8\"],[0.3333333333333333,\"#9c179e\"],[0.4444444444444444,\"#bd3786\"],[0.5555555555555556,\"#d8576b\"],[0.6666666666666666,\"#ed7953\"],[0.7777777777777778,\"#fb9f3a\"],[0.8888888888888888,\"#fdca26\"],[1.0,\"#f0f921\"]],\"sequentialminus\":[[0.0,\"#0d0887\"],[0.1111111111111111,\"#46039f\"],[0.2222222222222222,\"#7201a8\"],[0.3333333333333333,\"#9c179e\"],[0.4444444444444444,\"#bd3786\"],[0.5555555555555556,\"#d8576b\"],[0.6666666666666666,\"#ed7953\"],[0.7777777777777778,\"#fb9f3a\"],[0.8888888888888888,\"#fdca26\"],[1.0,\"#f0f921\"]]},\"colorway\":[\"#636efa\",\"#EF553B\",\"#00cc96\",\"#ab63fa\",\"#FFA15A\",\"#19d3f3\",\"#FF6692\",\"#B6E880\",\"#FF97FF\",\"#FECB52\"],\"font\":{\"color\":\"#2a3f5f\"},\"geo\":{\"bgcolor\":\"white\",\"lakecolor\":\"white\",\"landcolor\":\"#E5ECF6\",\"showlakes\":true,\"showland\":true,\"subunitcolor\":\"white\"},\"hoverlabel\":{\"align\":\"left\"},\"hovermode\":\"closest\",\"mapbox\":{\"style\":\"light\"},\"paper_bgcolor\":\"white\",\"plot_bgcolor\":\"#E5ECF6\",\"polar\":{\"angularaxis\":{\"gridcolor\":\"white\",\"linecolor\":\"white\",\"ticks\":\"\"},\"bgcolor\":\"#E5ECF6\",\"radialaxis\":{\"gridcolor\":\"white\",\"linecolor\":\"white\",\"ticks\":\"\"}},\"scene\":{\"xaxis\":{\"backgroundcolor\":\"#E5ECF6\",\"gridcolor\":\"white\",\"gridwidth\":2,\"linecolor\":\"white\",\"showbackground\":true,\"ticks\":\"\",\"zerolinecolor\":\"white\"},\"yaxis\":{\"backgroundcolor\":\"#E5ECF6\",\"gridcolor\":\"white\",\"gridwidth\":2,\"linecolor\":\"white\",\"showbackground\":true,\"ticks\":\"\",\"zerolinecolor\":\"white\"},\"zaxis\":{\"backgroundcolor\":\"#E5ECF6\",\"gridcolor\":\"white\",\"gridwidth\":2,\"linecolor\":\"white\",\"showbackground\":true,\"ticks\":\"\",\"zerolinecolor\":\"white\"}},\"shapedefaults\":{\"line\":{\"color\":\"#2a3f5f\"}},\"ternary\":{\"aaxis\":{\"gridcolor\":\"white\",\"linecolor\":\"white\",\"ticks\":\"\"},\"baxis\":{\"gridcolor\":\"white\",\"linecolor\":\"white\",\"ticks\":\"\"},\"bgcolor\":\"#E5ECF6\",\"caxis\":{\"gridcolor\":\"white\",\"linecolor\":\"white\",\"ticks\":\"\"}},\"title\":{\"x\":0.05},\"xaxis\":{\"automargin\":true,\"gridcolor\":\"white\",\"linecolor\":\"white\",\"ticks\":\"\",\"title\":{\"standoff\":15},\"zerolinecolor\":\"white\",\"zerolinewidth\":2},\"yaxis\":{\"automargin\":true,\"gridcolor\":\"white\",\"linecolor\":\"white\",\"ticks\":\"\",\"title\":{\"standoff\":15},\"zerolinecolor\":\"white\",\"zerolinewidth\":2}}},\"xaxis\":{\"anchor\":\"y\",\"domain\":[0.0,1.0],\"title\":{\"text\":\"GAME_DATE\"}},\"yaxis\":{\"anchor\":\"x\",\"domain\":[0.0,1.0],\"title\":{\"text\":\"PTS\"}},\"legend\":{\"tracegroupgap\":0},\"title\":{\"text\":\"Scottie Barnes\"},\"barmode\":\"relative\",\"updatemenus\":[{\"buttons\":[{\"args\":[{\"y\":[[7,19,23,11,14,17,25,2,6,17,26,27,11,6,13,21,17,17,4,11,28,19,8,8,15,13,5,19,11,15,21,13,16,11,17,15],[\"JAN 06, 2023\",\"JAN 04, 2023\",\"JAN 02, 2023\",\"DEC 30, 2022\",\"DEC 29, 2022\",\"DEC 27, 2022\",\"DEC 23, 2022\",\"DEC 21, 2022\",\"DEC 19, 2022\",\"DEC 18, 2022\",\"DEC 16, 2022\",\"DEC 14, 2022\",\"DEC 11, 2022\",\"DEC 09, 2022\",\"DEC 07, 2022\",\"DEC 05, 2022\",\"DEC 03, 2022\",\"DEC 02, 2022\",\"NOV 30, 2022\",\"NOV 28, 2022\",\"NOV 19, 2022\",\"NOV 16, 2022\",\"NOV 14, 2022\",\"NOV 12, 2022\",\"NOV 11, 2022\",\"NOV 09, 2022\",\"NOV 07, 2022\",\"NOV 06, 2022\",\"NOV 04, 2022\",\"NOV 02, 2022\",\"OCT 31, 2022\",\"OCT 28, 2022\",\"OCT 26, 2022\",\"OCT 22, 2022\",\"OCT 21, 2022\",\"OCT 19, 2022\"]]}],\"label\":\"Points\",\"method\":\"update\"},{\"args\":[{\"y\":[[5,3,8,3,4,8,4,3,3,4,3,10,0,2,4,4,4,3,5,5,9,6,4,5,4,5,5,4,10,5,8,1,5,2,3,7],[\"JAN 06, 2023\",\"JAN 04, 2023\",\"JAN 02, 2023\",\"DEC 30, 2022\",\"DEC 29, 2022\",\"DEC 27, 2022\",\"DEC 23, 2022\",\"DEC 21, 2022\",\"DEC 19, 2022\",\"DEC 18, 2022\",\"DEC 16, 2022\",\"DEC 14, 2022\",\"DEC 11, 2022\",\"DEC 09, 2022\",\"DEC 07, 2022\",\"DEC 05, 2022\",\"DEC 03, 2022\",\"DEC 02, 2022\",\"NOV 30, 2022\",\"NOV 28, 2022\",\"NOV 19, 2022\",\"NOV 16, 2022\",\"NOV 14, 2022\",\"NOV 12, 2022\",\"NOV 11, 2022\",\"NOV 09, 2022\",\"NOV 07, 2022\",\"NOV 06, 2022\",\"NOV 04, 2022\",\"NOV 02, 2022\",\"OCT 31, 2022\",\"OCT 28, 2022\",\"OCT 26, 2022\",\"OCT 22, 2022\",\"OCT 21, 2022\",\"OCT 19, 2022\"]]}],\"label\":\"Assists\",\"method\":\"update\"},{\"args\":[{\"y\":[[6,4,8,5,10,12,10,6,3,5,3,7,2,6,17,7,14,9,1,4,11,6,5,9,3,8,6,10,11,4,7,6,10,2,7,3],[\"JAN 06, 2023\",\"JAN 04, 2023\",\"JAN 02, 2023\",\"DEC 30, 2022\",\"DEC 29, 2022\",\"DEC 27, 2022\",\"DEC 23, 2022\",\"DEC 21, 2022\",\"DEC 19, 2022\",\"DEC 18, 2022\",\"DEC 16, 2022\",\"DEC 14, 2022\",\"DEC 11, 2022\",\"DEC 09, 2022\",\"DEC 07, 2022\",\"DEC 05, 2022\",\"DEC 03, 2022\",\"DEC 02, 2022\",\"NOV 30, 2022\",\"NOV 28, 2022\",\"NOV 19, 2022\",\"NOV 16, 2022\",\"NOV 14, 2022\",\"NOV 12, 2022\",\"NOV 11, 2022\",\"NOV 09, 2022\",\"NOV 07, 2022\",\"NOV 06, 2022\",\"NOV 04, 2022\",\"NOV 02, 2022\",\"OCT 31, 2022\",\"OCT 28, 2022\",\"OCT 26, 2022\",\"OCT 22, 2022\",\"OCT 21, 2022\",\"OCT 19, 2022\"]]}],\"label\":\"Rebounds\",\"method\":\"update\"}],\"direction\":\"right\",\"showactive\":true,\"type\":\"buttons\",\"x\":0.7,\"y\":1.2}]},                        {\"responsive\": true}                    ).then(function(){\n",
       "                            \n",
       "var gd = document.getElementById('fa82317c-3323-4091-a8db-ed9a595dc11a');\n",
       "var x = new MutationObserver(function (mutations, observer) {{\n",
       "        var display = window.getComputedStyle(gd).display;\n",
       "        if (!display || display === 'none') {{\n",
       "            console.log([gd, 'removed!']);\n",
       "            Plotly.purge(gd);\n",
       "            observer.disconnect();\n",
       "        }}\n",
       "}});\n",
       "\n",
       "// Listen for the removal of the full notebook cells\n",
       "var notebookContainer = gd.closest('#notebook-container');\n",
       "if (notebookContainer) {{\n",
       "    x.observe(notebookContainer, {childList: true});\n",
       "}}\n",
       "\n",
       "// Listen for the clearing of the current output cell\n",
       "var outputEl = gd.closest('.output');\n",
       "if (outputEl) {{\n",
       "    x.observe(outputEl, {childList: true});\n",
       "}}\n",
       "\n",
       "                        })                };                });            </script>        </div>"
      ]
     },
     "metadata": {},
     "output_type": "display_data"
    }
   ],
   "source": [
    "data = play\n",
    "fig = px.bar(data, x = 'GAME_DATE', y = 'PTS',\n",
    "            title = inplayer)\n",
    "\n",
    "fig.update_layout(\n",
    "    updatemenus=[\n",
    "        dict(\n",
    "            type=\"buttons\",\n",
    "            direction=\"right\",\n",
    "            x=0.7,\n",
    "            y=1.2,\n",
    "            showactive=True,\n",
    "            buttons=list(\n",
    "                [\n",
    "                    dict(\n",
    "                        label=\"Points\",\n",
    "                        method=\"update\",\n",
    "                        args=[{\"y\": [play[\"PTS\"], play[\"GAME_DATE\"]]}],\n",
    "                    ),\n",
    "                    dict(\n",
    "                        label=\"Assists\",\n",
    "                        method=\"update\",\n",
    "                        args=[{\"y\": [play[\"AST\"], play[\"GAME_DATE\"]]}],   \n",
    "                    ),\n",
    "                    dict(\n",
    "                        label = \"Rebounds\",\n",
    "                        method = \"update\",\n",
    "                        args=[{\"y\":[play[\"REB\"], play[\"GAME_DATE\"]]}],\n",
    "                    ),    \n",
    "                ]\n",
    "            ),\n",
    "        )\n",
    "    ]\n",
    ")"
   ]
  },
  {
   "cell_type": "code",
   "execution_count": null,
   "id": "bd4be818-557a-429f-8a08-e03eadf1dd1a",
   "metadata": {},
   "outputs": [],
   "source": []
  },
  {
   "cell_type": "code",
   "execution_count": null,
   "id": "9356ef35-e547-47d8-9ff6-bd7f237c6531",
   "metadata": {},
   "outputs": [],
   "source": []
  },
  {
   "cell_type": "code",
   "execution_count": null,
   "id": "a157cbc0-5e7c-4c6e-af5f-a07c1f32465d",
   "metadata": {},
   "outputs": [],
   "source": []
  },
  {
   "cell_type": "code",
   "execution_count": null,
   "id": "8ad3b256-1913-4436-95cb-a53be6a30bcb",
   "metadata": {},
   "outputs": [],
   "source": []
  },
  {
   "cell_type": "code",
   "execution_count": null,
   "id": "2a8f86de-a808-426d-a5c5-4240ccd1b72b",
   "metadata": {},
   "outputs": [],
   "source": []
  }
 ],
 "metadata": {
  "kernelspec": {
   "display_name": "Python 3 (ipykernel)",
   "language": "python",
   "name": "python3"
  },
  "language_info": {
   "codemirror_mode": {
    "name": "ipython",
    "version": 3
   },
   "file_extension": ".py",
   "mimetype": "text/x-python",
   "name": "python",
   "nbconvert_exporter": "python",
   "pygments_lexer": "ipython3",
   "version": "3.9.7"
  }
 },
 "nbformat": 4,
 "nbformat_minor": 5
}
